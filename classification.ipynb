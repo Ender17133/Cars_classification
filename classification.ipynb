{
 "cells": [
  {
   "cell_type": "markdown",
   "id": "67b98848",
   "metadata": {},
   "source": [
    "# Libraries "
   ]
  },
  {
   "cell_type": "code",
   "execution_count": 35,
   "id": "ced37099",
   "metadata": {},
   "outputs": [],
   "source": [
    "from pathlib import Path\n",
    "\n",
    "import numpy as np\n",
    "import pandas as pd\n",
    "import seaborn as sns\n",
    "import matplotlib.pylab as plt\n",
    "from sklearn.linear_model import LogisticRegression, LogisticRegressionCV\n",
    "from sklearn.tree import DecisionTreeClassifier, DecisionTreeRegressor, plot_tree\n",
    "from sklearn.ensemble import RandomForestClassifier, GradientBoostingClassifier, BaggingClassifier\n",
    "from xgboost import XGBClassifier\n",
    "from sklearn.model_selection import train_test_split, cross_val_score, StratifiedKFold, GridSearchCV,RandomizedSearchCV\n",
    "from sklearn.preprocessing import StandardScaler, FunctionTransformer\n",
    "from sklearn.compose import ColumnTransformer\n",
    "from sklearn.pipeline import make_pipeline\n",
    "from sklearn.metrics import confusion_matrix, classification_report, accuracy_score, precision_score\n",
    "from sklearn.metrics import recall_score, f1_score, roc_auc_score, roc_curve, auc, precision_recall_curve, PrecisionRecallDisplay, classification_report\n",
    "from statsmodels.stats.outliers_influence import variance_inflation_factor \n",
    "from scipy.stats import randint\n",
    "import statsmodels.api as sm\n",
    "from mord import LogisticIT\n",
    "import matplotlib.pylab as plt\n",
    "import seaborn as sns\n",
    "import dmba\n",
    "from dmba import plotDecisionTree, classificationSummary, gainsChart, liftChart, backward_elimination, forward_selection, stepwise_selection\n",
    "from dmba.metric import AIC_score\n",
    "\n",
    "\n",
    "%matplotlib inline"
   ]
  },
  {
   "cell_type": "markdown",
   "id": "b81a1f31",
   "metadata": {},
   "source": [
    "# Question 1\n",
    "\n",
    "# Import data\n",
    "In this problem, I will develop a model to predict whether a given car gets high or low gas mileage based on the \n",
    "Auto data set."
   ]
  },
  {
   "cell_type": "markdown",
   "id": "448215c4",
   "metadata": {},
   "source": [
    "Let's import and explore the data. \n"
   ]
  },
  {
   "cell_type": "code",
   "execution_count": 36,
   "id": "5d26f021",
   "metadata": {},
   "outputs": [
    {
     "data": {
      "text/html": [
       "<div>\n",
       "<style scoped>\n",
       "    .dataframe tbody tr th:only-of-type {\n",
       "        vertical-align: middle;\n",
       "    }\n",
       "\n",
       "    .dataframe tbody tr th {\n",
       "        vertical-align: top;\n",
       "    }\n",
       "\n",
       "    .dataframe thead th {\n",
       "        text-align: right;\n",
       "    }\n",
       "</style>\n",
       "<table border=\"1\" class=\"dataframe\">\n",
       "  <thead>\n",
       "    <tr style=\"text-align: right;\">\n",
       "      <th></th>\n",
       "      <th>mpg</th>\n",
       "      <th>cylinders</th>\n",
       "      <th>displacement</th>\n",
       "      <th>horsepower</th>\n",
       "      <th>weight</th>\n",
       "      <th>acceleration</th>\n",
       "      <th>year</th>\n",
       "      <th>origin</th>\n",
       "      <th>name</th>\n",
       "    </tr>\n",
       "  </thead>\n",
       "  <tbody>\n",
       "    <tr>\n",
       "      <th>0</th>\n",
       "      <td>18.0</td>\n",
       "      <td>8</td>\n",
       "      <td>307.0</td>\n",
       "      <td>130.0</td>\n",
       "      <td>3504</td>\n",
       "      <td>12.0</td>\n",
       "      <td>70</td>\n",
       "      <td>1</td>\n",
       "      <td>chevrolet chevelle malibu</td>\n",
       "    </tr>\n",
       "    <tr>\n",
       "      <th>1</th>\n",
       "      <td>15.0</td>\n",
       "      <td>8</td>\n",
       "      <td>350.0</td>\n",
       "      <td>165.0</td>\n",
       "      <td>3693</td>\n",
       "      <td>11.5</td>\n",
       "      <td>70</td>\n",
       "      <td>1</td>\n",
       "      <td>buick skylark 320</td>\n",
       "    </tr>\n",
       "    <tr>\n",
       "      <th>2</th>\n",
       "      <td>18.0</td>\n",
       "      <td>8</td>\n",
       "      <td>318.0</td>\n",
       "      <td>150.0</td>\n",
       "      <td>3436</td>\n",
       "      <td>11.0</td>\n",
       "      <td>70</td>\n",
       "      <td>1</td>\n",
       "      <td>plymouth satellite</td>\n",
       "    </tr>\n",
       "    <tr>\n",
       "      <th>3</th>\n",
       "      <td>16.0</td>\n",
       "      <td>8</td>\n",
       "      <td>304.0</td>\n",
       "      <td>150.0</td>\n",
       "      <td>3433</td>\n",
       "      <td>12.0</td>\n",
       "      <td>70</td>\n",
       "      <td>1</td>\n",
       "      <td>amc rebel sst</td>\n",
       "    </tr>\n",
       "    <tr>\n",
       "      <th>4</th>\n",
       "      <td>17.0</td>\n",
       "      <td>8</td>\n",
       "      <td>302.0</td>\n",
       "      <td>140.0</td>\n",
       "      <td>3449</td>\n",
       "      <td>10.5</td>\n",
       "      <td>70</td>\n",
       "      <td>1</td>\n",
       "      <td>ford torino</td>\n",
       "    </tr>\n",
       "  </tbody>\n",
       "</table>\n",
       "</div>"
      ],
      "text/plain": [
       "    mpg  cylinders  displacement  horsepower  weight  acceleration  year  \\\n",
       "0  18.0          8         307.0       130.0    3504          12.0    70   \n",
       "1  15.0          8         350.0       165.0    3693          11.5    70   \n",
       "2  18.0          8         318.0       150.0    3436          11.0    70   \n",
       "3  16.0          8         304.0       150.0    3433          12.0    70   \n",
       "4  17.0          8         302.0       140.0    3449          10.5    70   \n",
       "\n",
       "   origin                       name  \n",
       "0       1  chevrolet chevelle malibu  \n",
       "1       1          buick skylark 320  \n",
       "2       1         plymouth satellite  \n",
       "3       1              amc rebel sst  \n",
       "4       1                ford torino  "
      ]
     },
     "execution_count": 36,
     "metadata": {},
     "output_type": "execute_result"
    }
   ],
   "source": [
    "# import data \n",
    "df = pd.read_csv('auto.csv')\n",
    "\n",
    "# first 5 rows of the dataset \n",
    "df.head()"
   ]
  },
  {
   "cell_type": "code",
   "execution_count": 37,
   "id": "14b63f26",
   "metadata": {},
   "outputs": [
    {
     "data": {
      "text/plain": [
       "(397, 9)"
      ]
     },
     "execution_count": 37,
     "metadata": {},
     "output_type": "execute_result"
    }
   ],
   "source": [
    "# there are 397 rows and 9 columns in the data \n",
    "df.shape"
   ]
  },
  {
   "cell_type": "code",
   "execution_count": 38,
   "id": "0bc92d3d",
   "metadata": {},
   "outputs": [
    {
     "name": "stdout",
     "output_type": "stream",
     "text": [
      "<class 'pandas.core.frame.DataFrame'>\n",
      "RangeIndex: 397 entries, 0 to 396\n",
      "Data columns (total 9 columns):\n",
      " #   Column        Non-Null Count  Dtype  \n",
      "---  ------        --------------  -----  \n",
      " 0   mpg           397 non-null    float64\n",
      " 1   cylinders     397 non-null    int64  \n",
      " 2   displacement  397 non-null    float64\n",
      " 3   horsepower    392 non-null    float64\n",
      " 4   weight        397 non-null    int64  \n",
      " 5   acceleration  397 non-null    float64\n",
      " 6   year          397 non-null    int64  \n",
      " 7   origin        397 non-null    int64  \n",
      " 8   name          397 non-null    object \n",
      "dtypes: float64(4), int64(4), object(1)\n",
      "memory usage: 28.0+ KB\n"
     ]
    }
   ],
   "source": [
    "# overall information about the dataset \n",
    "df.info()"
   ]
  },
  {
   "cell_type": "markdown",
   "id": "ddbe0035",
   "metadata": {},
   "source": [
    "There are 397 rows and 9 columns in the data. \n",
    "Columns are: `mpg`, `cylinders`, `displacement`, `horsepower`, `weight`, `acceleration`, `year`, `origin`, and `name`\n",
    "    \n",
    "Dataset has 397 rows about different cars and their characteristics. Data only has null values in `horsepower` variable. "
   ]
  },
  {
   "cell_type": "markdown",
   "id": "73141c3c",
   "metadata": {},
   "source": [
    "## Null values\n",
    "I want to deal with null values first, as null values might worsen the predictive performance of my models."
   ]
  },
  {
   "cell_type": "code",
   "execution_count": 39,
   "id": "8f2f53d8",
   "metadata": {},
   "outputs": [
    {
     "name": "stdout",
     "output_type": "stream",
     "text": [
      "Null rows take only 1.3 percent of data.\n"
     ]
    }
   ],
   "source": [
    "# check null rows \n",
    "null_rows = df['horsepower'].isnull()\n",
    "\n",
    "# percentage of data for these null values \n",
    "percentage = round((len(df.loc[null_rows, :]) / len(df))*100, 1)\n",
    "\n",
    "print(f\"Null rows take only {percentage} percent of data.\")"
   ]
  },
  {
   "cell_type": "markdown",
   "id": "8e34a88c",
   "metadata": {},
   "source": [
    "There is only 1% of data that is null. It is safe to remove these rows. "
   ]
  },
  {
   "cell_type": "code",
   "execution_count": 40,
   "id": "e9299cef",
   "metadata": {},
   "outputs": [],
   "source": [
    "# remove na values \n",
    "df = df.dropna()"
   ]
  },
  {
   "cell_type": "code",
   "execution_count": 41,
   "id": "32b1d33b",
   "metadata": {},
   "outputs": [
    {
     "name": "stdout",
     "output_type": "stream",
     "text": [
      "<class 'pandas.core.frame.DataFrame'>\n",
      "Int64Index: 392 entries, 0 to 396\n",
      "Data columns (total 9 columns):\n",
      " #   Column        Non-Null Count  Dtype  \n",
      "---  ------        --------------  -----  \n",
      " 0   mpg           392 non-null    float64\n",
      " 1   cylinders     392 non-null    int64  \n",
      " 2   displacement  392 non-null    float64\n",
      " 3   horsepower    392 non-null    float64\n",
      " 4   weight        392 non-null    int64  \n",
      " 5   acceleration  392 non-null    float64\n",
      " 6   year          392 non-null    int64  \n",
      " 7   origin        392 non-null    int64  \n",
      " 8   name          392 non-null    object \n",
      "dtypes: float64(4), int64(4), object(1)\n",
      "memory usage: 30.6+ KB\n"
     ]
    }
   ],
   "source": [
    "# check\n",
    "df.info()"
   ]
  },
  {
   "cell_type": "markdown",
   "id": "faf0cdbd",
   "metadata": {},
   "source": [
    "## Binary variable"
   ]
  },
  {
   "cell_type": "code",
   "execution_count": 42,
   "id": "1cffeedb",
   "metadata": {},
   "outputs": [],
   "source": [
    "# create a binary variable called `mpg01`\n",
    "df['mpg01'] = np.where(df['mpg'] > np.median(df['mpg']), 1, 0)\n"
   ]
  },
  {
   "cell_type": "code",
   "execution_count": 43,
   "id": "7f3f7325",
   "metadata": {
    "scrolled": true
   },
   "outputs": [
    {
     "name": "stdout",
     "output_type": "stream",
     "text": [
      "Median value is 22.75\n"
     ]
    },
    {
     "data": {
      "text/html": [
       "<div>\n",
       "<style scoped>\n",
       "    .dataframe tbody tr th:only-of-type {\n",
       "        vertical-align: middle;\n",
       "    }\n",
       "\n",
       "    .dataframe tbody tr th {\n",
       "        vertical-align: top;\n",
       "    }\n",
       "\n",
       "    .dataframe thead th {\n",
       "        text-align: right;\n",
       "    }\n",
       "</style>\n",
       "<table border=\"1\" class=\"dataframe\">\n",
       "  <thead>\n",
       "    <tr style=\"text-align: right;\">\n",
       "      <th></th>\n",
       "      <th>mpg</th>\n",
       "      <th>cylinders</th>\n",
       "      <th>displacement</th>\n",
       "      <th>horsepower</th>\n",
       "      <th>weight</th>\n",
       "      <th>acceleration</th>\n",
       "      <th>year</th>\n",
       "      <th>origin</th>\n",
       "      <th>name</th>\n",
       "      <th>mpg01</th>\n",
       "    </tr>\n",
       "  </thead>\n",
       "  <tbody>\n",
       "    <tr>\n",
       "      <th>0</th>\n",
       "      <td>18.0</td>\n",
       "      <td>8</td>\n",
       "      <td>307.0</td>\n",
       "      <td>130.0</td>\n",
       "      <td>3504</td>\n",
       "      <td>12.0</td>\n",
       "      <td>70</td>\n",
       "      <td>1</td>\n",
       "      <td>chevrolet chevelle malibu</td>\n",
       "      <td>0</td>\n",
       "    </tr>\n",
       "    <tr>\n",
       "      <th>1</th>\n",
       "      <td>15.0</td>\n",
       "      <td>8</td>\n",
       "      <td>350.0</td>\n",
       "      <td>165.0</td>\n",
       "      <td>3693</td>\n",
       "      <td>11.5</td>\n",
       "      <td>70</td>\n",
       "      <td>1</td>\n",
       "      <td>buick skylark 320</td>\n",
       "      <td>0</td>\n",
       "    </tr>\n",
       "    <tr>\n",
       "      <th>2</th>\n",
       "      <td>18.0</td>\n",
       "      <td>8</td>\n",
       "      <td>318.0</td>\n",
       "      <td>150.0</td>\n",
       "      <td>3436</td>\n",
       "      <td>11.0</td>\n",
       "      <td>70</td>\n",
       "      <td>1</td>\n",
       "      <td>plymouth satellite</td>\n",
       "      <td>0</td>\n",
       "    </tr>\n",
       "    <tr>\n",
       "      <th>3</th>\n",
       "      <td>16.0</td>\n",
       "      <td>8</td>\n",
       "      <td>304.0</td>\n",
       "      <td>150.0</td>\n",
       "      <td>3433</td>\n",
       "      <td>12.0</td>\n",
       "      <td>70</td>\n",
       "      <td>1</td>\n",
       "      <td>amc rebel sst</td>\n",
       "      <td>0</td>\n",
       "    </tr>\n",
       "    <tr>\n",
       "      <th>4</th>\n",
       "      <td>17.0</td>\n",
       "      <td>8</td>\n",
       "      <td>302.0</td>\n",
       "      <td>140.0</td>\n",
       "      <td>3449</td>\n",
       "      <td>10.5</td>\n",
       "      <td>70</td>\n",
       "      <td>1</td>\n",
       "      <td>ford torino</td>\n",
       "      <td>0</td>\n",
       "    </tr>\n",
       "    <tr>\n",
       "      <th>...</th>\n",
       "      <td>...</td>\n",
       "      <td>...</td>\n",
       "      <td>...</td>\n",
       "      <td>...</td>\n",
       "      <td>...</td>\n",
       "      <td>...</td>\n",
       "      <td>...</td>\n",
       "      <td>...</td>\n",
       "      <td>...</td>\n",
       "      <td>...</td>\n",
       "    </tr>\n",
       "    <tr>\n",
       "      <th>392</th>\n",
       "      <td>27.0</td>\n",
       "      <td>4</td>\n",
       "      <td>140.0</td>\n",
       "      <td>86.0</td>\n",
       "      <td>2790</td>\n",
       "      <td>15.6</td>\n",
       "      <td>82</td>\n",
       "      <td>1</td>\n",
       "      <td>ford mustang gl</td>\n",
       "      <td>1</td>\n",
       "    </tr>\n",
       "    <tr>\n",
       "      <th>393</th>\n",
       "      <td>44.0</td>\n",
       "      <td>4</td>\n",
       "      <td>97.0</td>\n",
       "      <td>52.0</td>\n",
       "      <td>2130</td>\n",
       "      <td>24.6</td>\n",
       "      <td>82</td>\n",
       "      <td>2</td>\n",
       "      <td>vw pickup</td>\n",
       "      <td>1</td>\n",
       "    </tr>\n",
       "    <tr>\n",
       "      <th>394</th>\n",
       "      <td>32.0</td>\n",
       "      <td>4</td>\n",
       "      <td>135.0</td>\n",
       "      <td>84.0</td>\n",
       "      <td>2295</td>\n",
       "      <td>11.6</td>\n",
       "      <td>82</td>\n",
       "      <td>1</td>\n",
       "      <td>dodge rampage</td>\n",
       "      <td>1</td>\n",
       "    </tr>\n",
       "    <tr>\n",
       "      <th>395</th>\n",
       "      <td>28.0</td>\n",
       "      <td>4</td>\n",
       "      <td>120.0</td>\n",
       "      <td>79.0</td>\n",
       "      <td>2625</td>\n",
       "      <td>18.6</td>\n",
       "      <td>82</td>\n",
       "      <td>1</td>\n",
       "      <td>ford ranger</td>\n",
       "      <td>1</td>\n",
       "    </tr>\n",
       "    <tr>\n",
       "      <th>396</th>\n",
       "      <td>31.0</td>\n",
       "      <td>4</td>\n",
       "      <td>119.0</td>\n",
       "      <td>82.0</td>\n",
       "      <td>2720</td>\n",
       "      <td>19.4</td>\n",
       "      <td>82</td>\n",
       "      <td>1</td>\n",
       "      <td>chevy s-10</td>\n",
       "      <td>1</td>\n",
       "    </tr>\n",
       "  </tbody>\n",
       "</table>\n",
       "<p>392 rows × 10 columns</p>\n",
       "</div>"
      ],
      "text/plain": [
       "      mpg  cylinders  displacement  horsepower  weight  acceleration  year  \\\n",
       "0    18.0          8         307.0       130.0    3504          12.0    70   \n",
       "1    15.0          8         350.0       165.0    3693          11.5    70   \n",
       "2    18.0          8         318.0       150.0    3436          11.0    70   \n",
       "3    16.0          8         304.0       150.0    3433          12.0    70   \n",
       "4    17.0          8         302.0       140.0    3449          10.5    70   \n",
       "..    ...        ...           ...         ...     ...           ...   ...   \n",
       "392  27.0          4         140.0        86.0    2790          15.6    82   \n",
       "393  44.0          4          97.0        52.0    2130          24.6    82   \n",
       "394  32.0          4         135.0        84.0    2295          11.6    82   \n",
       "395  28.0          4         120.0        79.0    2625          18.6    82   \n",
       "396  31.0          4         119.0        82.0    2720          19.4    82   \n",
       "\n",
       "     origin                       name  mpg01  \n",
       "0         1  chevrolet chevelle malibu      0  \n",
       "1         1          buick skylark 320      0  \n",
       "2         1         plymouth satellite      0  \n",
       "3         1              amc rebel sst      0  \n",
       "4         1                ford torino      0  \n",
       "..      ...                        ...    ...  \n",
       "392       1            ford mustang gl      1  \n",
       "393       2                  vw pickup      1  \n",
       "394       1              dodge rampage      1  \n",
       "395       1                ford ranger      1  \n",
       "396       1                 chevy s-10      1  \n",
       "\n",
       "[392 rows x 10 columns]"
      ]
     },
     "execution_count": 43,
     "metadata": {},
     "output_type": "execute_result"
    }
   ],
   "source": [
    "# check if it worked \n",
    "median_value = np.median(df['mpg'])\n",
    "print(f'Median value is {median_value}')\n",
    "\n",
    "df"
   ]
  },
  {
   "cell_type": "code",
   "execution_count": 44,
   "id": "d6aa553c",
   "metadata": {},
   "outputs": [
    {
     "name": "stdout",
     "output_type": "stream",
     "text": [
      "<class 'pandas.core.series.Series'>\n",
      "Int64Index: 392 entries, 0 to 396\n",
      "Series name: mpg01\n",
      "Non-Null Count  Dtype\n",
      "--------------  -----\n",
      "392 non-null    int32\n",
      "dtypes: int32(1)\n",
      "memory usage: 4.6 KB\n"
     ]
    }
   ],
   "source": [
    "# check datatype of mpg01\n",
    "df['mpg01'].info()"
   ]
  },
  {
   "cell_type": "markdown",
   "id": "b96fd778",
   "metadata": {},
   "source": [
    "\n",
    "`mpg` column is not going to be used as I created a binary variable `mpg01` that contains a 1 if mpg contains a value above its median, and 0 if mpg contains a value below its median.\n",
    "\n",
    "`name` column is also not going to be used as the name of the car doesn't determine the mpg, technical characteristics are the most important factors for predicting this variable. "
   ]
  },
  {
   "cell_type": "code",
   "execution_count": 45,
   "id": "0ca0e111",
   "metadata": {},
   "outputs": [],
   "source": [
    "# drop `mpg` column \n",
    "df = df.drop('mpg', axis = 1).reset_index(drop = True)\n",
    "\n",
    "# drop `name` column \n",
    "df = df.drop('name', axis = 1).reset_index(drop = True)"
   ]
  },
  {
   "cell_type": "code",
   "execution_count": 46,
   "id": "cb2a3523",
   "metadata": {},
   "outputs": [
    {
     "name": "stdout",
     "output_type": "stream",
     "text": [
      "<class 'pandas.core.frame.DataFrame'>\n",
      "RangeIndex: 392 entries, 0 to 391\n",
      "Data columns (total 8 columns):\n",
      " #   Column        Non-Null Count  Dtype  \n",
      "---  ------        --------------  -----  \n",
      " 0   cylinders     392 non-null    int64  \n",
      " 1   displacement  392 non-null    float64\n",
      " 2   horsepower    392 non-null    float64\n",
      " 3   weight        392 non-null    float64\n",
      " 4   acceleration  392 non-null    float64\n",
      " 5   year          392 non-null    int64  \n",
      " 6   origin        392 non-null    int64  \n",
      " 7   mpg01         392 non-null    int32  \n",
      "dtypes: float64(4), int32(1), int64(3)\n",
      "memory usage: 23.1 KB\n"
     ]
    }
   ],
   "source": [
    "# convert weight column to float \n",
    "df['weight'] = df['weight'].astype(float)\n",
    "df.info()"
   ]
  },
  {
   "cell_type": "markdown",
   "id": "e16eefd2",
   "metadata": {},
   "source": [
    "There is only 7 columns and no null values in the final dataset. Now I will explore cars and their characteristics using visualization."
   ]
  },
  {
   "cell_type": "markdown",
   "id": "edccf50e",
   "metadata": {},
   "source": [
    "# Data Exploration\n"
   ]
  },
  {
   "cell_type": "markdown",
   "id": "c6b98ae0",
   "metadata": {},
   "source": [
    "## Mpg01 (target variable)"
   ]
  },
  {
   "cell_type": "code",
   "execution_count": 47,
   "id": "bc83016a",
   "metadata": {},
   "outputs": [
    {
     "data": {
      "image/png": "[encoded data removed]",
      "text/plain": [
       "<Figure size 1600x1000 with 1 Axes>"
      ]
     },
     "metadata": {},
     "output_type": "display_data"
    }
   ],
   "source": [
    "# pie chart that shows number  of car per target variable class \n",
    "## 1 - mpg higher than median mpg \n",
    "## 0 - mpg lower than median mpg \n",
    "\n",
    "plt.figure(figsize = (16, 10))\n",
    "\n",
    "# class labels \n",
    "mpg1 = df[df['mpg01'] == 1].shape[0]\n",
    "mpg0 = df[df['mpg01'] == 0].shape[0]\n",
    "\n",
    "# total number\n",
    "total = mpg1 + mpg0\n",
    "# class percentages\n",
    "mpg1_percent = (mpg1 / total) * 100 \n",
    "mpg0_percent = (mpg0 / total) * 100 \n",
    "\n",
    "# function to show labels and percentages of mpg01 class type\n",
    "labels_with_info = [\n",
    "    '0 (Car mpg lower than median level): {:.2f}%\\n({})'.format(mpg0_percent, mpg0),\n",
    "    '1 (Car mpg higher than median level): {:.2f}%\\n({})'.format(mpg1_percent, mpg1)\n",
    "]\n",
    "\n",
    "# pie-chart plot \n",
    "plt.pie( \n",
    "    # values\n",
    "    [mpg0, mpg1],\n",
    "    # labels\n",
    "    labels = labels_with_info,\n",
    "    # text size \n",
    "    textprops = {'fontsize': 18}, \n",
    "    # color palette\n",
    "    colors = ['#66c2a5', '#e78ac3'])\n",
    "\n",
    "# circle at the center of pie to make it a donut \n",
    "circle = plt.Circle((0, 0), 0.80, fc = 'white')\n",
    "plt.gcf().gca().add_artist(circle)\n",
    "\n",
    "# add total in the center \n",
    "total = len(df['mpg01'])\n",
    "\n",
    "# apply total number on pie chart \n",
    "plt.text(0, 0, f\"Total Cars {total}\", \n",
    "               ha='center', \n",
    "               va='center', fontsize=16)\n",
    "\n",
    "# parameters\n",
    "## title \n",
    "plt.title('Total number of cars by mpg01 class', fontweight = 'bold', fontsize = 18)\n",
    "\n",
    "plt.show()\n",
    "\n"
   ]
  },
  {
   "cell_type": "markdown",
   "id": "75773553",
   "metadata": {},
   "source": [
    "There is equal number of cars in 2 different classes. It means that there should be enough data for model to be trained, and I don't have to oversample the target variable, as it is not going to be dominated by data majority. But I will still need to check the numbers after data partition, as it might change. "
   ]
  },
  {
   "cell_type": "markdown",
   "id": "e0c3d111",
   "metadata": {},
   "source": [
    "## Cylinders "
   ]
  },
  {
   "cell_type": "code",
   "execution_count": 104,
   "id": "cda608b8",
   "metadata": {},
   "outputs": [
    {
     "data": {
      "text/html": [
       "<div>\n",
       "<style scoped>\n",
       "    .dataframe tbody tr th:only-of-type {\n",
       "        vertical-align: middle;\n",
       "    }\n",
       "\n",
       "    .dataframe tbody tr th {\n",
       "        vertical-align: top;\n",
       "    }\n",
       "\n",
       "    .dataframe thead th {\n",
       "        text-align: right;\n",
       "    }\n",
       "</style>\n",
       "<table border=\"1\" class=\"dataframe\">\n",
       "  <thead>\n",
       "    <tr style=\"text-align: right;\">\n",
       "      <th></th>\n",
       "      <th>cylinders</th>\n",
       "      <th>counts</th>\n",
       "    </tr>\n",
       "  </thead>\n",
       "  <tbody>\n",
       "    <tr>\n",
       "      <th>1</th>\n",
       "      <td>4</td>\n",
       "      <td>199</td>\n",
       "    </tr>\n",
       "    <tr>\n",
       "      <th>4</th>\n",
       "      <td>8</td>\n",
       "      <td>103</td>\n",
       "    </tr>\n",
       "    <tr>\n",
       "      <th>3</th>\n",
       "      <td>6</td>\n",
       "      <td>83</td>\n",
       "    </tr>\n",
       "    <tr>\n",
       "      <th>0</th>\n",
       "      <td>3</td>\n",
       "      <td>4</td>\n",
       "    </tr>\n",
       "    <tr>\n",
       "      <th>2</th>\n",
       "      <td>5</td>\n",
       "      <td>3</td>\n",
       "    </tr>\n",
       "  </tbody>\n",
       "</table>\n",
       "</div>"
      ],
      "text/plain": [
       "  cylinders  counts\n",
       "1         4     199\n",
       "4         8     103\n",
       "3         6      83\n",
       "0         3       4\n",
       "2         5       3"
      ]
     },
     "execution_count": 104,
     "metadata": {},
     "output_type": "execute_result"
    }
   ],
   "source": [
    "# values for bar chart \n",
    "cylinders = df.groupby('cylinders').size().reset_index()\n",
    "\n",
    "# make columns \n",
    "cylinders.columns = ['cylinders', 'counts']\n",
    "\n",
    "# change `cylinders` to categorical as it represents category\n",
    "cylinders['cylinders'] = cylinders['cylinders'].astype(str)\n",
    "\n",
    "# sort \n",
    "cylinders = cylinders.sort_values(by = 'counts', ascending = False)\n",
    "\n",
    "# check \n",
    "cylinders"
   ]
  },
  {
   "cell_type": "code",
   "execution_count": 127,
   "id": "29779af4",
   "metadata": {
    "scrolled": false
   },
   "outputs": [
    {
     "data": {
      "image/png": "[encoded data removed]",
      "text/plain": [
       "<Figure size 1600x1000 with 1 Axes>"
      ]
     },
     "metadata": {},
     "output_type": "display_data"
    }
   ],
   "source": [
    "# bar plot for exploring cylinders variables \n",
    "## figure size \n",
    "plt.figure(figsize = (16, 10))\n",
    "\n",
    "\n",
    "## colors \n",
    "colors = ['orange', 'orange', 'orange', 'grey', 'grey']\n",
    "barplot = sns.barplot(data = cylinders, \n",
    "    # x \n",
    "    x = 'counts', \n",
    "    # y\n",
    "    y = 'cylinders',  \n",
    "    # edge colors of bars\n",
    "    edgecolor = 'black', \n",
    "    # color palette \n",
    "    palette = colors, \n",
    "    # orientation\n",
    "    orient = 'h'\n",
    "    )\n",
    "\n",
    "\n",
    "\n",
    "# parameters \n",
    "## title\n",
    "plt.title('Number of cars by number of cylinders', fontweight = 'bold', fontsize = 18)\n",
    "\n",
    "## x-label\n",
    "plt.xlabel('Number of cars', fontsize = 16)\n",
    "## x-ticks\n",
    "plt.xticks(fontsize = 16)\n",
    "\n",
    "## ylabel\n",
    "plt.ylabel('Number of cylinders', fontsize = 16)\n",
    "## y-ticks \n",
    "plt.yticks(fontsize = 16)\n",
    "\n",
    "\n",
    "## annotations for labels\n",
    "for i, (count, cyl) in enumerate(zip(cylinders['counts'], cylinders['cylinders'])):\n",
    "    barplot.text(count, i,  # Position the text at the end of the bar\n",
    "                 f'{count}', \n",
    "                 va='center', \n",
    "                 ha='left',  # Right align to avoid overlapping with the bar\n",
    "                 color='black', \n",
    "                 fontsize=16)\n",
    "    \n",
    "\n",
    "\n",
    "plt.show()\n",
    "\n"
   ]
  },
  {
   "cell_type": "code",
   "execution_count": null,
   "id": "ac09f2be",
   "metadata": {
    "scrolled": false
   },
   "outputs": [],
   "source": [
    "# relationships with target variable `mpg01` (boxplot)\n",
    "def boxplot_relationship(data, target, feature):\n",
    "    # graph size  \n",
    "    plt.figure(figsize = (10, 6))\n",
    "\n",
    "    # parameters \n",
    "    sns.boxplot(y = data[target], x = data[feature], orient = 'h', palette = \"Set2\")\n",
    "    plt.title(f\"Relationship between {feature} data and target {target} variable\", fontweight = 'bold', fontsize = 18)\n",
    "    plt.ylabel(f\"{target}\", fontsize = 15)\n",
    "    plt.xlabel(f\"{feature}\", fontsize = 15)\n",
    "    plt.xticks(fontsize = 15)\n",
    "    plt.yticks(fontsize = 15)\n",
    "\n",
    "    plt.show()\n",
    "\n",
    "for column in df.columns:\n",
    "    if column != 'mpg01' and df[column].dtype == 'float64' :  \n",
    "        boxplot_relationship(df, 'mpg01', column)"
   ]
  },
  {
   "cell_type": "code",
   "execution_count": null,
   "id": "6d6bee5c",
   "metadata": {},
   "outputs": [],
   "source": [
    "# relationships with target variable `mpg01` (boxplot)\n",
    "def boxplot_relationship(data, target, feature):\n",
    "    # graph size  \n",
    "    plt.figure(figsize = (10, 6))\n",
    "\n",
    "    # parameters \n",
    "    sns.boxplot(y = data[target], x = data[feature], orient = 'h', palette = \"Set2\")\n",
    "    plt.title(f\"Relationship between {feature} data and target {target} variable\", fontweight = 'bold', fontsize = 18)\n",
    "    plt.ylabel(f\"{target}\", fontsize = 15)\n",
    "    plt.xlabel(f\"{feature}\", fontsize = 15)\n",
    "    plt.xticks(fontsize = 15)\n",
    "    plt.yticks(fontsize = 15)\n",
    "\n",
    "    plt.show()\n",
    "\n",
    "for column in df.columns:\n",
    "    if column != 'mpg01' and df[column].dtype == 'int64' :  \n",
    "        boxplot_relationship(df, 'mpg01', column)"
   ]
  },
  {
   "cell_type": "code",
   "execution_count": null,
   "id": "abadac54",
   "metadata": {
    "scrolled": true
   },
   "outputs": [],
   "source": [
    "# relationships with target variable `mpg01` (scatterplot)\n",
    "def scatterplot_relationship(data, target, feature):\n",
    "    # graph size  \n",
    "    plt.figure(figsize = (10, 6))\n",
    "\n",
    "    # parameters \n",
    "    sns.scatterplot(y = data[feature], x = data[target])\n",
    "    plt.title(f\"Relationship between {feature} data and target {target} variable\", fontweight = 'bold', fontsize = 18)\n",
    "    plt.xlabel(f\"{target}\", fontsize = 15)\n",
    "    plt.ylabel(f\"{feature}\", fontsize = 15)\n",
    "    plt.xticks(fontsize = 15)\n",
    "    plt.yticks(fontsize = 15)\n",
    "\n",
    "    plt.show()\n",
    "\n",
    "for column in df.columns:\n",
    "    if column != 'mpg01' and df[column].dtype == 'float64' :  \n",
    "        scatterplot_relationship(df, 'mpg01', column)"
   ]
  },
  {
   "cell_type": "markdown",
   "id": "c3726f30",
   "metadata": {},
   "source": [
    "`displacement`, `acceleration`, `horsepower`, `weight`, and `year` variables are important because they have clear relationship with `mpg01` variable. For example: \n",
    " - Cars with mpg lower than median value tend to have a higher values of displacement than cars with mpg higher than median value. \n",
    " \n",
    " \n",
    " - Cars with mpg lower than median value tend to have a higher horsepower levels than cars with mpg higher than median value.\n",
    " \n",
    " \n",
    " \n",
    " - Cars with mpg lower than median value are on average heavier than cars with mpg higher than median value. \n",
    " \n",
    " \n",
    " \n",
    " - Cars with mpg higher than median value have higher acceleration than cars with mpg lower than median values.\n",
    "\n",
    "\n",
    "\n",
    " - Cars with mpg higher than median value on average are older than cars with mpg lower than median value. \n",
    " \n",
    " \n",
    " When it comes to `Cylinders` and `Origin` variables, they don't provide any significant information numerically, as they represent categories and I might to convert these features to dummy variables. I need to check correlation between predictors to avoid multicollinearity.\n",
    " \n",
    "P.S. I can't do dummy variables or any other data transformation, as such processes should be done after data is split into training and validation samples to avoid data leakage."
   ]
  },
  {
   "cell_type": "code",
   "execution_count": null,
   "id": "191c2159",
   "metadata": {},
   "outputs": [],
   "source": [
    "# correlation between predictors and target variable (mpg01)\n",
    "correlation = df.corr()"
   ]
  },
  {
   "cell_type": "code",
   "execution_count": null,
   "id": "269a9dac",
   "metadata": {},
   "outputs": [],
   "source": [
    "# heatmap visualization\n",
    "def heatmap(correlation_col):\n",
    "    plt.figure(figsize = (20, 15))\n",
    "    sns.heatmap(correlation, annot = True, cmap = 'coolwarm', fmt = '.2f', annot_kws = {'size': 15})\n",
    "    plt.title('Correlation Matrix', fontweight = 'bold', fontsize = 18)\n",
    "    plt.xticks(fontsize = 15)\n",
    "    plt.yticks(fontsize = 15)\n",
    "    plt.show()\n",
    "\n",
    "heatmap(correlation)"
   ]
  },
  {
   "cell_type": "code",
   "execution_count": null,
   "id": "52560772",
   "metadata": {},
   "outputs": [],
   "source": [
    "# VIF function to check for multicollinearity \n",
    "columns = df.columns.to_list()\n",
    "x = df[columns]\n",
    "\n",
    "vif_data = pd.DataFrame()\n",
    "vif_data['feature'] = x.columns\n",
    "\n",
    "vif_data[\"VIF\"] = [variance_inflation_factor(x.values, i) \n",
    "                          for i in range(len(x.columns))]\n",
    "\n",
    "print(vif_data)"
   ]
  },
  {
   "cell_type": "markdown",
   "id": "d8b1f092",
   "metadata": {},
   "source": [
    "1) `origin`, `weight` `horsepower`, `displacement`, and `cylinders` are variables that highly correlate with target `mpg01` variable. \n",
    "\n",
    "2) However, they are also highly correlated with each other, which might worsen the interpretation and explainability of the prediction algorithm. However, I figured out that by applying an `l2` regularization, I can still maintain my algorithm being explainable and interpretable even if it has multicollinearity. \n",
    "\n",
    "`l2` regularization for logistic regression makes coefficients of variables near to 0 and chooses the most significant variables, that's why this regularization will help with multicollinearity."
   ]
  },
  {
   "cell_type": "markdown",
   "id": "c175bef1",
   "metadata": {},
   "source": [
    "## c) Split the data into a training set and a test set using the seed 2401.\n",
    "## d) Perform logistic regression on the training data in order to predict mpg01 using the variables that seemed most associated with mpg01 in (b). What is the test error of the model obtained?"
   ]
  },
  {
   "cell_type": "code",
   "execution_count": null,
   "id": "897328b2",
   "metadata": {},
   "outputs": [],
   "source": [
    "# split the data \n",
    "training = df.sample(frac = 0.6, random_state = 2401)\n",
    "training.reset_index(drop = True, inplace = True)\n",
    "\n",
    "validation = df.drop(training.index)\n",
    "validation.reset_index(drop = True, inplace = True)\n",
    "\n",
    "\n"
   ]
  },
  {
   "cell_type": "code",
   "execution_count": null,
   "id": "9f68cbaf",
   "metadata": {},
   "outputs": [],
   "source": [
    "# training data \n",
    "training.info()"
   ]
  },
  {
   "cell_type": "code",
   "execution_count": null,
   "id": "28099d65",
   "metadata": {},
   "outputs": [],
   "source": [
    "# validation data \n",
    "validation.info()"
   ]
  },
  {
   "cell_type": "markdown",
   "id": "b6200fe6",
   "metadata": {},
   "source": [
    "## Data distribution \n",
    "### training sample\n",
    "An important factor that I need to explore is the data distribution, and whether particular variable is left-skewed, right-skewed or bell shaped. If any variable is skewed, I am going to convert it to approximately bell shape distribution using log transformation."
   ]
  },
  {
   "cell_type": "code",
   "execution_count": null,
   "id": "da9350d2",
   "metadata": {},
   "outputs": [],
   "source": [
    "# function that shows distribution through histograms for a particular data \n",
    "def distribution_graph(data):\n",
    "    # distribution of data trough plot\n",
    "    plt.figure(figsize=(20, 30))\n",
    "    for i in list(enumerate(data.columns)):\n",
    "        plt.subplot(6, 4, i[0]+1)\n",
    "        sns.histplot(data = df[i[1]], kde=True)\n",
    "    \n",
    "    # skew score \n",
    "    skew = data.skew().sort_values(ascending = False)\n",
    "    print(skew)\n",
    "\n",
    "# apply the function\n",
    "distribution_graph(training)"
   ]
  },
  {
   "cell_type": "markdown",
   "id": "9b7d261e",
   "metadata": {},
   "source": [
    "`Displacement`, `Horsepower`, and `weight` are highly skewed variables. `Origin`, and `Cylinders` columns can't be considered skewed even if they have skew scores 0.912 and 0.539 because they have `integer` datatypes and they represent categories. Now I will convert skewed data in the training data and then I will do the same in validation data. \n",
    "\n",
    "In any critical data tranformation, I will create draft training and validation variables in order avoid loosing progress if something goes wrong. "
   ]
  },
  {
   "cell_type": "code",
   "execution_count": null,
   "id": "51cf4ee7",
   "metadata": {},
   "outputs": [],
   "source": [
    "# draft variables \n",
    "# training\n",
    "training_draft = training.copy()\n",
    "\n",
    "# validation\n",
    "validation_draft = validation.copy()"
   ]
  },
  {
   "cell_type": "code",
   "execution_count": null,
   "id": "5097e0af",
   "metadata": {},
   "outputs": [],
   "source": [
    "# function to Logtransform `displacement` variable\n",
    "def logTrans(df, feature):   \n",
    "    # log transformation\n",
    "    df_log = df.copy()\n",
    "    df_log[feature] = np.log1p(df_log[feature])\n",
    "    \n",
    "    plt.figure(figsize=(15,6))\n",
    "    plt.subplot(1,2,1)\n",
    "    plt.title(\"Distribution before Transformation\", fontsize=15)\n",
    "    sns.histplot(df[feature], kde=True, color=\"red\")\n",
    "    \n",
    "    plt.subplot(1,2,2)\n",
    "    plt.title(\"Distribution after Transformation\", fontsize=15)\n",
    "    sns.histplot(df_log[feature], bins=20, kde=True , legend=False, color=\"blue\")\n",
    "    plt.xlabel(feature)\n",
    "    \n",
    "    plt.show()\n",
    "    \n",
    "    # Calculate skewness before and after transformation\n",
    "    skew_before = df[feature].skew()\n",
    "    skew_after = df_log[feature].skew()\n",
    "    print(f\"Skewness was {round(skew_before,2)} before & is {round(skew_after,2)} after Log transformation.\")\n",
    "    \n",
    "    return df_log[feature]\n",
    "\n",
    "training['displacement'] = logTrans(training, 'displacement')"
   ]
  },
  {
   "cell_type": "code",
   "execution_count": null,
   "id": "d2c8b245",
   "metadata": {},
   "outputs": [],
   "source": [
    "# apply the logtransformation function for `horsepower`\n",
    "training['horsepower'] = logTrans(training, 'horsepower')"
   ]
  },
  {
   "cell_type": "code",
   "execution_count": null,
   "id": "658d271e",
   "metadata": {
    "scrolled": true
   },
   "outputs": [],
   "source": [
    "# apply the logtransformation function for `weight`\n",
    "training['weight'] = logTrans(training, 'weight')"
   ]
  },
  {
   "cell_type": "markdown",
   "id": "5055b228",
   "metadata": {},
   "source": [
    "### validation sample"
   ]
  },
  {
   "cell_type": "code",
   "execution_count": null,
   "id": "7ebc8197",
   "metadata": {},
   "outputs": [],
   "source": [
    "distribution_graph(validation)"
   ]
  },
  {
   "cell_type": "code",
   "execution_count": null,
   "id": "34ae944f",
   "metadata": {},
   "outputs": [],
   "source": [
    "# apply the logtransformation function for `displacement`\n",
    "validation['displacement'] = logTrans(validation, 'displacement')"
   ]
  },
  {
   "cell_type": "code",
   "execution_count": null,
   "id": "bc9558c9",
   "metadata": {},
   "outputs": [],
   "source": [
    "# apply the logtransformation function for `horsepower`\n",
    "validation['horsepower'] = logTrans(validation, 'horsepower')"
   ]
  },
  {
   "cell_type": "code",
   "execution_count": null,
   "id": "8ffd85f9",
   "metadata": {},
   "outputs": [],
   "source": [
    "# apply the logtransformation function for `weight`\n",
    "validation['weight'] = logTrans(validation, 'weight')"
   ]
  },
  {
   "cell_type": "markdown",
   "id": "c8271603",
   "metadata": {},
   "source": [
    "I converted all right-skewed data both in training and validation draft samples using log transformation. Now I'm going to convert `origin` and `cylinders` variables to dummy. \n",
    "\n",
    "Before I start converting `origin` and `cylinders` variables to dummy, I want to check performance of my model at this step."
   ]
  },
  {
   "cell_type": "code",
   "execution_count": null,
   "id": "2405ff9b",
   "metadata": {},
   "outputs": [],
   "source": [
    "# variable split function\n",
    "def variable_split(y, data_train, data_validation): \n",
    "    train_x = data_train.drop(columns = [y])\n",
    "    train_y = data_train[y]\n",
    "    \n",
    "    valid_x = data_validation.drop(columns = [y])\n",
    "    valid_y = data_validation[y]\n",
    "    \n",
    "    return train_x, train_y, valid_x, valid_y \n",
    "\n",
    "\n",
    "train_x, train_y, valid_x, valid_y = variable_split('mpg01', training, validation)"
   ]
  },
  {
   "cell_type": "code",
   "execution_count": null,
   "id": "8393e93b",
   "metadata": {},
   "outputs": [],
   "source": [
    "train_x"
   ]
  },
  {
   "cell_type": "code",
   "execution_count": null,
   "id": "13c75a09",
   "metadata": {},
   "outputs": [],
   "source": [
    "valid_x"
   ]
  },
  {
   "cell_type": "markdown",
   "id": "42ba2b36",
   "metadata": {},
   "source": [
    "Variable split is done now. I want to ckeck performance of my model at this step where I converted some of the variables to the log form. "
   ]
  },
  {
   "cell_type": "code",
   "execution_count": null,
   "id": "392dda0b",
   "metadata": {},
   "outputs": [],
   "source": [
    "# fit a logistic regression\n",
    "model = LogisticRegression(penalty = 'l2', \n",
    "                              C = 0.1, \n",
    "                              solver = 'liblinear')\n",
    "model.fit(train_x, train_y)\n",
    "\n",
    "print('intercept ', model.intercept_[0])\n",
    "print(pd.DataFrame({'coeff': model.coef_[0]}, index=train_x.columns).transpose())\n",
    "print()"
   ]
  },
  {
   "cell_type": "code",
   "execution_count": null,
   "id": "9121e8f1",
   "metadata": {
    "scrolled": false
   },
   "outputs": [],
   "source": [
    "# function to check metrics \n",
    "def metrics(true_values, x, predictions, data, model): \n",
    "    # some statistics \n",
    "    print(f\"{data} Accuracy: {accuracy_score(true_values, predictions):.4f}\")\n",
    "    print(f\"{data} Precision: {precision_score(true_values, predictions):.4f}\")\n",
    "    print(f\"{data} Recall: {recall_score(true_values, predictions):.4f}\")\n",
    "    print(f\"{data} F1 Score: {f1_score(true_values, predictions):.4f}\")\n",
    "    \n",
    "    # ROC curve \n",
    "    ROC = model.predict_proba(x)[:, 1]\n",
    "    print(f\"{data} ROC AUC: {roc_auc_score(true_values, ROC):.4f}\")\n",
    "    print()\n",
    "    \n",
    "    # AIC \n",
    "    print('AIC', AIC_score(true_values, predictions, df = len(x.columns) + 1))\n",
    "    \n",
    "    \n",
    "   #summary (confusion_matrix)\n",
    "    classificationSummary(true_values, predictions)\n",
    "    print()\n",
    "    \n",
    "# training data \n",
    "metrics(train_y, train_x, model.predict(train_x), \"Training\", model)\n",
    "\n",
    "# validation data \n",
    "metrics(valid_y, valid_x, model.predict(valid_x), \"Validation\", model)"
   ]
  },
  {
   "cell_type": "markdown",
   "id": "4618fda7",
   "metadata": {},
   "source": [
    "My metrics for both training and validation data show significant prediction power of the model. I mostly care only about `Precision`, and `Recall`, as I want to maximize the efficiency of predicting positive class.\n",
    "\n",
    "Now I need to make a cross-validation for initial model performance. However, cross-validation evaluates model based on whole dataset and I manually splitted the dataset into training and validation before hand. Because of that, I will have to join training and validation for cross validation. "
   ]
  },
  {
   "cell_type": "code",
   "execution_count": null,
   "id": "fe59520b",
   "metadata": {},
   "outputs": [],
   "source": [
    "# cross-validation function\n",
    "def cross_validation(training_data, validation_data, target, model, splits): \n",
    "    # combined data \n",
    "    combined_data = pd.concat([training_data, validation_data], ignore_index = True)\n",
    "    \n",
    "    # variables \n",
    "    x = combined_data.drop(columns = [target])\n",
    "    y = combined_data[target]\n",
    "    \n",
    "    # cross-validation cv\n",
    "    cv = StratifiedKFold(n_splits = splits, \n",
    "                        shuffle = True, \n",
    "                        random_state = 2401)\n",
    "    \n",
    "    # cross_validation\n",
    "    score_accuracy = cross_val_score(model, x, y, cv = cv, scoring = 'accuracy')\n",
    "    score_precision = cross_val_score(model, x, y, cv = cv, scoring = 'precision')\n",
    "    score_recall = cross_val_score(model, x, y, cv = cv, scoring = 'recall')\n",
    "    score_ROC = cross_val_score(model, x, y, scoring='roc_auc', cv=cv)\n",
    "    \n",
    "    print(\"Accuracy scores for each fold:\", score_accuracy)\n",
    "    print(\"Average cross-validation score:\", score_accuracy.mean())\n",
    "    print()\n",
    "    print(\"Precision scores for each fold:\", score_precision)\n",
    "    print(\"Average cross-validation score:\", score_precision.mean())\n",
    "    print()\n",
    "    print(\"Recall scores for each fold:\", score_recall)\n",
    "    print(\"Average cross-validation score:\", score_recall.mean())\n",
    "    print()\n",
    "    print(\"ROC AUC scores for each fold:\", score_ROC)\n",
    "    print(\"Average ROC AUC score:\", score_ROC.mean())\n",
    "    \n",
    "\n",
    "cross_validation(training, validation, 'mpg01', model, 5)\n",
    "\n",
    "    \n",
    "\n",
    "\n",
    "# cross-validation\n",
    "#scores = cross_val_score(logit_reg, x, y, cv=10, scoring='accuracy')\n",
    "#print(scores)\n",
    "\n",
    "#print(f\"Mean accuracy score for cross-validation:{np.mean(scores)}\")"
   ]
  },
  {
   "cell_type": "markdown",
   "id": "628d99d9",
   "metadata": {},
   "source": [
    "After I produced my initial performance, I will transform `origin` and `cylinders` variables to dummies and I will compare the performances. I will use training_draft and validation_draft variables for now to be safe. If everything will be correct I will just update main `training` and `validation` variables. "
   ]
  },
  {
   "cell_type": "markdown",
   "id": "e7e836ee",
   "metadata": {},
   "source": [
    "## Dummy Variables\n",
    "### training sample"
   ]
  },
  {
   "cell_type": "code",
   "execution_count": null,
   "id": "33ccae3d",
   "metadata": {},
   "outputs": [],
   "source": [
    "# before\n",
    "training.info()"
   ]
  },
  {
   "cell_type": "code",
   "execution_count": null,
   "id": "d7ea9a14",
   "metadata": {},
   "outputs": [],
   "source": [
    "# use draft variables \n",
    "training_draft = training.copy()\n",
    "validation_draft = validation.copy()\n",
    "\n",
    "# convert `origin` and `cylinders` to object.\n",
    "training_draft['cylinders'] = training_draft['cylinders'].astype(str)\n",
    "training_draft['origin'] = training_draft['origin'].astype(str)"
   ]
  },
  {
   "cell_type": "code",
   "execution_count": null,
   "id": "a82cb242",
   "metadata": {},
   "outputs": [],
   "source": [
    "# after \n",
    "training_draft.info()"
   ]
  },
  {
   "cell_type": "code",
   "execution_count": null,
   "id": "1e25db6d",
   "metadata": {},
   "outputs": [],
   "source": [
    "# check levels of cylinders \n",
    "training_draft['cylinders'].value_counts()"
   ]
  },
  {
   "cell_type": "markdown",
   "id": "735c750b",
   "metadata": {},
   "source": [
    "I am going to combine `3` and `4` cylinders as `3` cylinders only have 3 rows, which might create a noise. I am not going to combine `5` cylinders with them too, as it will be dropped when I will create dummy variables. I will do it both in training and validation data."
   ]
  },
  {
   "cell_type": "code",
   "execution_count": null,
   "id": "4467051e",
   "metadata": {},
   "outputs": [],
   "source": [
    "# replacement mapping \n",
    "replacement_mapping = {\n",
    "    '3':'3-4', \n",
    "    '4':'3-4'}\n",
    "\n",
    "# apply in training sample \n",
    "training_draft['cylinders'] = training_draft['cylinders'].replace(replacement_mapping)"
   ]
  },
  {
   "cell_type": "code",
   "execution_count": null,
   "id": "5c1fc7e3",
   "metadata": {},
   "outputs": [],
   "source": [
    "# check \n",
    "training_draft['cylinders'].value_counts()"
   ]
  },
  {
   "cell_type": "code",
   "execution_count": null,
   "id": "ac251de1",
   "metadata": {},
   "outputs": [],
   "source": [
    "# check levels of origin \n",
    "training_draft['origin'].value_counts()"
   ]
  },
  {
   "cell_type": "code",
   "execution_count": null,
   "id": "c8bf2ebb",
   "metadata": {},
   "outputs": [],
   "source": [
    "# select variables \n",
    "categorical_columns = training_draft.select_dtypes(include = ['object']).columns.tolist()\n",
    "\n",
    "# create dummies\n",
    "training_draft = pd.get_dummies(training_draft, columns=categorical_columns, drop_first = True)"
   ]
  },
  {
   "cell_type": "code",
   "execution_count": null,
   "id": "0c7a69e3",
   "metadata": {},
   "outputs": [],
   "source": [
    "# check \n",
    "training_draft.info()"
   ]
  },
  {
   "cell_type": "markdown",
   "id": "0bc68d30",
   "metadata": {},
   "source": [
    "### validation sample"
   ]
  },
  {
   "cell_type": "code",
   "execution_count": null,
   "id": "e3b4c99c",
   "metadata": {},
   "outputs": [],
   "source": [
    "# before\n",
    "validation_draft.info()"
   ]
  },
  {
   "cell_type": "code",
   "execution_count": null,
   "id": "3fca3b57",
   "metadata": {},
   "outputs": [],
   "source": [
    "# convert `origin` and `cylinders` to object.\n",
    "validation_draft['cylinders'] = validation_draft['cylinders'].astype(str)\n",
    "validation_draft['origin'] = validation_draft['origin'].astype(str)"
   ]
  },
  {
   "cell_type": "code",
   "execution_count": null,
   "id": "0c5495aa",
   "metadata": {},
   "outputs": [],
   "source": [
    "# after\n",
    "validation_draft.info()"
   ]
  },
  {
   "cell_type": "code",
   "execution_count": null,
   "id": "1d606859",
   "metadata": {},
   "outputs": [],
   "source": [
    "# check levels of cylinders \n",
    "validation_draft['cylinders'].value_counts()"
   ]
  },
  {
   "cell_type": "code",
   "execution_count": null,
   "id": "b4e8eaaa",
   "metadata": {},
   "outputs": [],
   "source": [
    "# replacement mapping \n",
    "replacement_mapping = {\n",
    "    '3':'3-4', \n",
    "    '4':'3-4'}\n",
    "\n",
    "# apply in training sample \n",
    "validation_draft['cylinders'] = validation_draft['cylinders'].replace(replacement_mapping)"
   ]
  },
  {
   "cell_type": "code",
   "execution_count": null,
   "id": "3cc21109",
   "metadata": {},
   "outputs": [],
   "source": [
    "# check \n",
    "validation_draft['cylinders'].value_counts()"
   ]
  },
  {
   "cell_type": "code",
   "execution_count": null,
   "id": "cac128da",
   "metadata": {},
   "outputs": [],
   "source": [
    "# check levels of origin \n",
    "validation_draft['origin'].value_counts()"
   ]
  },
  {
   "cell_type": "code",
   "execution_count": null,
   "id": "baf7cd4e",
   "metadata": {},
   "outputs": [],
   "source": [
    "# select variables \n",
    "categorical_columns = validation_draft.select_dtypes(include = ['object']).columns.tolist()\n",
    "\n",
    "# create dummies\n",
    "validation_draft = pd.get_dummies(validation_draft, columns=categorical_columns, drop_first = True)"
   ]
  },
  {
   "cell_type": "code",
   "execution_count": null,
   "id": "9f070067",
   "metadata": {},
   "outputs": [],
   "source": [
    "# check\n",
    "validation_draft.info()"
   ]
  },
  {
   "cell_type": "markdown",
   "id": "606c9f0e",
   "metadata": {},
   "source": [
    "I have my dummies ready both in validation and training draft data. I am once again going to check performance of my model."
   ]
  },
  {
   "cell_type": "code",
   "execution_count": null,
   "id": "29c34a06",
   "metadata": {},
   "outputs": [],
   "source": [
    "# variable split function for draft data \n",
    "def variable_split_draft(y, data_train, data_validation): \n",
    "    train_x_draft = data_train.drop(columns = [y])\n",
    "    train_y_draft = data_train[y]\n",
    "    \n",
    "    valid_x_draft = data_validation.drop(columns = [y])\n",
    "    valid_y_draft = data_validation[y]\n",
    "    \n",
    "    return train_x_draft, train_y_draft, valid_x_draft, valid_y_draft \n",
    "\n",
    "\n",
    "train_x_draft, train_y_draft, valid_x_draft, valid_y_draft = variable_split_draft('mpg01', training_draft, validation_draft)"
   ]
  },
  {
   "cell_type": "code",
   "execution_count": null,
   "id": "31cf2e87",
   "metadata": {},
   "outputs": [],
   "source": [
    "# fit a logistic regression\n",
    "model_draft = LogisticRegression(penalty = 'l2', \n",
    "                              C = 0.1, \n",
    "                              solver = 'liblinear')\n",
    "model_draft.fit(train_x_draft, train_y_draft)\n",
    "\n",
    "print('intercept ', model_draft.intercept_[0])\n",
    "print(pd.DataFrame({'coeff': model_draft.coef_[0]}, index=train_x_draft.columns).transpose())\n",
    "print()"
   ]
  },
  {
   "cell_type": "code",
   "execution_count": null,
   "id": "94b3c3a9",
   "metadata": {},
   "outputs": [],
   "source": [
    "# compare previous and current predictions\n",
    "# previous\n",
    "print('Previous predictions:', '\\n')\n",
    "\n",
    "# validation data \n",
    "metrics(valid_y, valid_x, model.predict(valid_x), \"Validation\", model)\n",
    "\n",
    "print()\n",
    "\n",
    "# current \n",
    "print('Current predictions:', '\\n')\n",
    "\n",
    "# validation data \n",
    "metrics(valid_y_draft, valid_x_draft, model_draft.predict(valid_x_draft), \"Validation\", model_draft)\n"
   ]
  },
  {
   "cell_type": "markdown",
   "id": "3f52d53c",
   "metadata": {},
   "source": [
    "Judging based on a validation data, the accuracy rate is still the same. However, there was a slight increase in `Recall`, `F1 Score`, and `ROC AUC` rate in validation data after dummy variables transformation. However, there is also a slight decrease in `Precision` and `AIC` rates. But this decrease is related to the fact that the rate of `True Negative` decreased, while `True Positive` rate increased. I am still fullfilling my objective. \n",
    "\n",
    "I am going to replace `training` and `validation` datasets with new data in draft variables. Then, I will check whether the predictions results are the same. "
   ]
  },
  {
   "cell_type": "code",
   "execution_count": null,
   "id": "d35593e5",
   "metadata": {},
   "outputs": [],
   "source": [
    "# replace by new data\n",
    "training = training_draft.copy()\n",
    "validation = validation_draft.copy()\n",
    "\n"
   ]
  },
  {
   "cell_type": "code",
   "execution_count": null,
   "id": "fcd9c74e",
   "metadata": {},
   "outputs": [],
   "source": [
    "# check \n",
    "print(training.info())\n",
    "print()\n",
    "print(validation.info())"
   ]
  },
  {
   "cell_type": "code",
   "execution_count": null,
   "id": "a26eb0da",
   "metadata": {},
   "outputs": [],
   "source": [
    "# split the data \n",
    "train_x, train_y, valid_x, valid_y = variable_split('mpg01', training, validation)"
   ]
  },
  {
   "cell_type": "code",
   "execution_count": null,
   "id": "175ea42a",
   "metadata": {},
   "outputs": [],
   "source": [
    "# predict again\n",
    "# fit a logistic regression\n",
    "model = LogisticRegression(penalty = 'l2', \n",
    "                              C = 0.1, \n",
    "                              solver = 'liblinear')\n",
    "model.fit(train_x, train_y)\n",
    "\n",
    "print('intercept ', model.intercept_[0])\n",
    "print(pd.DataFrame({'coeff': model.coef_[0]}, index=train_x.columns).transpose())\n",
    "print()"
   ]
  },
  {
   "cell_type": "code",
   "execution_count": null,
   "id": "5d084ee5",
   "metadata": {},
   "outputs": [],
   "source": [
    "# validation data \n",
    "# the data and prediction is correct! \n",
    "metrics(valid_y, valid_x, model.predict(valid_x), \"Validation\", model)\n"
   ]
  },
  {
   "cell_type": "code",
   "execution_count": null,
   "id": "1e7d81bd",
   "metadata": {},
   "outputs": [],
   "source": [
    "# cross-validation for the newest data \n",
    "cross_validation(training, validation, 'mpg01', model, 5)"
   ]
  },
  {
   "cell_type": "markdown",
   "id": "d03e5fd0",
   "metadata": {},
   "source": [
    "Cross-validation on other hand showed increase in accuracy and recall, while precision decreased. It is still a good improvement in prediction power. However, I think that it is not enough, so now I will try find best decision (probability) thresholds to maximize my results. "
   ]
  },
  {
   "cell_type": "markdown",
   "id": "26fc78a1",
   "metadata": {},
   "source": [
    "## Probability Thresholds"
   ]
  },
  {
   "cell_type": "code",
   "execution_count": null,
   "id": "efe820b1",
   "metadata": {},
   "outputs": [],
   "source": [
    "# probabilities \n",
    "train_prob = model.predict_proba(train_x)[:, 1]\n",
    "validation_prob = model.predict_proba(valid_x)[:, 1]"
   ]
  },
  {
   "cell_type": "code",
   "execution_count": null,
   "id": "344b9ab9",
   "metadata": {},
   "outputs": [],
   "source": [
    "# range of thresholds \n",
    "thresholds = np.arange(0.1, 1, 0.1)\n",
    "\n",
    "# create dataframe for visualization \n",
    "accuracy = pd.DataFrame(index = thresholds, \n",
    "                       columns = ['train', 'test'])\n"
   ]
  },
  {
   "cell_type": "code",
   "execution_count": null,
   "id": "f1310ce9",
   "metadata": {},
   "outputs": [],
   "source": [
    "# TP rate for each cutoff \n",
    "train_fpr, train_tpr, train_thresholds = roc_curve(train_y, train_prob)\n",
    "validation_fpr, validation_tpr, validation_thresholds = roc_curve(valid_y, validation_prob)"
   ]
  },
  {
   "cell_type": "code",
   "execution_count": null,
   "id": "f35935ae",
   "metadata": {},
   "outputs": [],
   "source": [
    "# Plotting\n",
    "plt.figure(figsize=(10,6))\n",
    "\n",
    "plt.plot(train_thresholds, train_tpr, label='Train TPR', color='orange')\n",
    "plt.plot(validation_thresholds, validation_tpr, label='Test TPR', color='green')\n",
    "\n",
    "plt.title('Train/Test TPR for Different Cutoffs')\n",
    "plt.xlabel('Cutoff (Threshold)')\n",
    "plt.ylabel('True Positive Rate')\n",
    "plt.legend(loc='best')\n",
    "plt.show()\n",
    "\n",
    "# TPR - true positive rate\n",
    "TPR = pd.DataFrame({'Threshold': validation_thresholds, 'TPR': validation_tpr})\n",
    "print(TPR)\n"
   ]
  },
  {
   "cell_type": "code",
   "execution_count": null,
   "id": "0b74a58c",
   "metadata": {},
   "outputs": [],
   "source": [
    "# best threshold \n",
    "best_threshold =  0.2"
   ]
  },
  {
   "cell_type": "code",
   "execution_count": null,
   "id": "469d027a",
   "metadata": {},
   "outputs": [],
   "source": [
    "probabilities = model.predict_proba(valid_x)[:, 1]\n",
    "\n",
    "labels = (probabilities >= best_threshold).astype(int)\n",
    "\n",
    "classificationSummary(valid_y, labels)"
   ]
  },
  {
   "cell_type": "markdown",
   "id": "1b7397bc",
   "metadata": {},
   "source": [
    "I tried to find a probability threshold which will maximize the `True Positive` rates (least amount of false negative) and there won't be any erorr in predicting positive classes. Threshold for such objective are in range 0.2-0.22. \n",
    "\n",
    "However, such method actually makes the model worse, because while the TPR (`True Positive Rate`) is maximized, TNR `True negative Rate` suffers and becomes very close to 0. The accuracy that you can see in the confusion matrix above also decreased dramatically. That's why, new objective is to find ideal threshold that will maximize both `TPR` and `TNR`. "
   ]
  },
  {
   "cell_type": "code",
   "execution_count": null,
   "id": "c43d813b",
   "metadata": {
    "scrolled": false
   },
   "outputs": [],
   "source": [
    "# lists for tpr and tnr \n",
    "tpr_list = []\n",
    "tnr_list = []\n",
    "\n",
    "# calculate tpr and tnr\n",
    "for threshold in thresholds: \n",
    "    y_pred = (probabilities >= threshold).astype(int)\n",
    "    \n",
    "    # confusion matrix \n",
    "    tn, fp, fn, tp = confusion_matrix(valid_y, y_pred).ravel()\n",
    "    \n",
    "    # TPR and TNR\n",
    "    tpr = tp / (tp + fn)\n",
    "    tnr = tn / (tn + fp)\n",
    "    \n",
    "    # to lists \n",
    "    tpr_list.append(tpr)\n",
    "    tnr_list.append(tnr)\n",
    "    \n",
    "    \n",
    "# plot\n",
    "plt.figure(figsize=(10, 6))\n",
    "plt.plot(thresholds, tpr_list, label='TPR (Sensitivity)', color='orange')\n",
    "plt.plot(thresholds, tnr_list, label='TNR (Specificity)', color='green')\n",
    "plt.title('TPR and TNR for Different Thresholds')\n",
    "plt.xlabel('Threshold')\n",
    "plt.ylabel('Rate')\n",
    "plt.legend(loc='best')\n",
    "plt.grid(True)\n",
    "plt.show()\n",
    "\n",
    "\n",
    "# TPR - true positive rate\n",
    "TPR_TNR = pd.DataFrame({'Threshold': thresholds, 'TPR': tpr_list, 'TNR':tnr_list})\n",
    "print(TPR_TNR)"
   ]
  },
  {
   "cell_type": "code",
   "execution_count": null,
   "id": "1f34f155",
   "metadata": {},
   "outputs": [],
   "source": [
    "# best\n",
    "best_threshold = 0.52\n"
   ]
  },
  {
   "cell_type": "markdown",
   "id": "a6decd73",
   "metadata": {},
   "source": [
    "The best possible threshold is 0.52. Now I need to compare the performance of my model with classic threshold (0.5) and 0.52 threshold using metrics() and cross_validation."
   ]
  },
  {
   "cell_type": "code",
   "execution_count": null,
   "id": "168c5f27",
   "metadata": {},
   "outputs": [],
   "source": [
    "# produce probabilities \n",
    "probabilities = model.predict_proba(valid_x)[:, 1]\n",
    "\n",
    "# produce predictions using threshold \n",
    "labels = (probabilities >= best_threshold).astype(int)\n",
    "\n",
    "# before threshold\n",
    "print('Before Threshold')\n",
    "print()\n",
    "metrics(valid_y, valid_x, model.predict(valid_x), \"Validation\", model)\n",
    "\n",
    "# after threshold\n",
    "print('After Custom Threshold')\n",
    "print()\n",
    "metrics(valid_y, valid_x, labels, \"Validation\", model)\n"
   ]
  },
  {
   "cell_type": "code",
   "execution_count": null,
   "id": "33d8a77e",
   "metadata": {},
   "outputs": [],
   "source": [
    "# complementary function to calculate cross-validation score for model with custom threshold\n",
    "def score_threshold(model, x, y, cv, threshold): \n",
    "    accuracy_scores = []\n",
    "    precision_scores = []\n",
    "    recall_scores = []\n",
    "    \n",
    "    for train, validation in cv.split(x, y):\n",
    "        train_x, valid_x = x.iloc[train], x.iloc[validation]\n",
    "        train_y, valid_y = y.iloc[train], y.iloc[validation]\n",
    "        \n",
    "        model.fit(train_x, train_y)\n",
    "        probabilities = model.predict_proba(valid_x)[:, 1]\n",
    "        predictions = (probabilities >= threshold).astype(int)\n",
    "        \n",
    "        accuracy_scores.append(accuracy_score(valid_y, predictions))\n",
    "        precision_scores.append(precision_score(valid_y, predictions))\n",
    "        recall_scores.append(recall_score(valid_y, predictions))\n",
    "    \n",
    "    return np.mean(accuracy_scores), np.mean(precision_scores), np.mean(recall_scores)\n",
    "    \n",
    "# cross_validation function for custom threshold\n",
    "def cross_validation_threshold(training_data, validation_data, target, model, splits, threshold): \n",
    "    # combined data \n",
    "    combined_data = pd.concat([training_data, validation_data], ignore_index = True)\n",
    "    \n",
    "    # variables \n",
    "    x = combined_data.drop(columns = [target])\n",
    "    y = combined_data[target]\n",
    "    \n",
    "    # cross-validation cv\n",
    "    cv = StratifiedKFold(n_splits = splits, \n",
    "                        shuffle = True, \n",
    "                        random_state = 2401)\n",
    "    \n",
    "    # cross_validation\n",
    "    mean_accuracy, mean_precision, mean_recall = score_threshold(model, x, y, cv, threshold)\n",
    "    \n",
    "    print(\"Average cross-validation accuracy:\", mean_accuracy)\n",
    "    print(\"Average cross-validation precision:\", mean_precision)\n",
    "    print(\"Average cross-validation recall:\", mean_recall)\n",
    "    \n",
    "# cross-validation before threshold\n",
    "print('Cross-validation before threshold')\n",
    "cross_validation(training, validation, 'mpg01', model, 5)\n",
    "\n",
    "# cross-validation after threshold\n",
    "print()\n",
    "print('Cross-validation after threshold')\n",
    "cross_validation_threshold(training, validation, 'mpg01', model_draft, 5, best_threshold)"
   ]
  },
  {
   "cell_type": "markdown",
   "id": "3a89f937",
   "metadata": {},
   "source": [
    "I had to adjust cross-validation function to threshold to correctly evaluate the performance of my algorithm. Because of that, I created 2 additiional functions - `cross_validation_threshold` and `score_threshold`. \n",
    "\n",
    "My metrics funcion showed a good improvement in Accuracy, Precision, F1 score, and AIC. However, after conducting cross-validation, it showed that my accuracy and recall scores decreased, while only precision increased. But differences shown in cross validation before and after are insignificant (`less than 1%`).\n",
    "\n",
    "Confusion-Matrix above still showed that there was a decrease in `False Positive` predictions by 2 observations, that's why I am going to continue with 0.52 threshold."
   ]
  },
  {
   "cell_type": "code",
   "execution_count": null,
   "id": "d72be730",
   "metadata": {},
   "outputs": [],
   "source": [
    "# best\n",
    "best_threshold = 0.52\n",
    "\n",
    "# produce probabilities \n",
    "probabilities = model.predict_proba(valid_x)[:, 1]\n",
    "\n",
    "# produce predictions using threshold \n",
    "labels = (probabilities >= best_threshold).astype(int)\n",
    "\n",
    "# confusion matrix \n",
    "print('Confusion Matrix:')\n",
    "print(confusion_matrix(valid_y, labels))\n",
    "\n",
    "# rates \n",
    "tn, fp, fn, tp = confusion_matrix(valid_y, labels).ravel()\n",
    "\n",
    "\n",
    "# TPR and TNR\n",
    "tpr = tp / (tp + fn)\n",
    "tnr = tn / (tn + fp)\n",
    "\n",
    "# missclassification_rate \n",
    "misclassification_rate = (fp + fn) / (tn + fp + fn + tp)\n",
    "\n",
    "print()\n",
    "print(f\"True Positive Rate:{np.round(tpr*100), 1}\")\n",
    "print(f\"True Negative Rate:{np.round(tnr*100), 1}\")\n",
    "print(f\"Misclassification Rate:{np.round(misclassification_rate*100), 1}\")"
   ]
  },
  {
   "cell_type": "code",
   "execution_count": null,
   "id": "09d82fa8",
   "metadata": {
    "scrolled": false
   },
   "outputs": [],
   "source": [
    "# produce probabilities \n",
    "probabilities = model.predict_proba(valid_x)[:, 1]\n",
    "\n",
    "# final plots \n",
    "# ROC \n",
    "\n",
    "fpr, tpr, thresholds = roc_curve(valid_y, probabilities)\n",
    "roc_auc = auc(fpr, tpr)\n",
    "\n",
    "plt.figure()\n",
    "plt.plot(fpr, tpr, label='ROC curve (area = %0.2f)' % roc_auc)\n",
    "plt.plot([0, 1], [0, 1], 'k--')  # Random performance line\n",
    "\n",
    "# Calculate TPR and FPR for 3 different models \n",
    "# 0.5 - classic threshold \n",
    "# 0.52 - best threshold \n",
    "# 0.2 - TPR maximization threshold\n",
    "for thresh in [0.5, 0.52, 0.2]:\n",
    "    thresh_fpr, thresh_tpr, _ = roc_curve(valid_y, probabilities >= thresh)\n",
    "    plt.plot(thresh_fpr[1], thresh_tpr[1], marker='o', label=f'Threshold {thresh}')\n",
    "\n",
    "plt.xlim([0.0, 1.0])\n",
    "plt.ylim([0.0, 1.05])\n",
    "plt.xlabel('False Positive Rate')\n",
    "plt.ylabel('True Positive Rate')\n",
    "plt.title('Receiver Operating Characteristic (Validation data)', fontweight = 'bold')\n",
    "plt.legend(loc=\"lower right\")\n",
    "\n",
    "\n",
    "\n",
    "# Precision-Recall Curve \n",
    "precision, recall, thresholds = precision_recall_curve(valid_y, probabilities)\n",
    "\n",
    "# plot \n",
    "fig, ax = plt.subplots()\n",
    "display = PrecisionRecallDisplay(precision=precision, recall=recall).plot(ax=ax)\n",
    "\n",
    "# Function to find closest threshold\n",
    "def find_closest_threshold(t):\n",
    "    idx = np.argmin(np.abs(thresholds - t))\n",
    "    return precision[idx], recall[idx], thresholds[idx]\n",
    "\n",
    "for t in [0.5, 0.52, 0.25]:\n",
    "    p, r, th = find_closest_threshold(t)\n",
    "    plt.plot(r, p, marker='o', markersize=5, label=f\"Threshold {th:.2f}\")\n",
    "    \n",
    "\n",
    "plt.xlim([0, 1.05])\n",
    "plt.ylim([0.0, 1.05])\n",
    "plt.xlabel('Recall')\n",
    "plt.ylabel('Precision')\n",
    "plt.title('Precision-Recall curve (Validation data)', fontweight = 'bold')\n",
    "plt.legend(loc=\"lower right\")\n",
    "plt.show()\n",
    "\n",
    "\n"
   ]
  },
  {
   "cell_type": "markdown",
   "id": "984c019d",
   "metadata": {},
   "source": [
    "My current `True Positive Rate` is 97% and `True Negative Rate` is 83%. `Misclassification Rate` is 7%. I consider this as a good result. Now I will try to fit my data in the decision tree models. "
   ]
  },
  {
   "cell_type": "markdown",
   "id": "427f47ba",
   "metadata": {},
   "source": [
    "# Question 2:  Classification using Trees"
   ]
  },
  {
   "cell_type": "markdown",
   "id": "c006c3f7",
   "metadata": {},
   "source": [
    "## Using the data set, and the same partition and target variable as in Question 1, do the following: Fit a decision tree. Plot it and describe a few of the terminal nodes. What is the resulting training and test(validation) misclassification rates?\n",
    "\n",
    "## What is the optimal sized tree? Explain how you obtain the optimal size tree\n",
    "### Single Trees"
   ]
  },
  {
   "cell_type": "markdown",
   "id": "76ffb864",
   "metadata": {},
   "source": [
    "I am going to train 6 different decision-tree models and compare their performance: \n",
    "\n",
    "1) Full grown no-limits decision tree\n",
    "\n",
    "2) CHAID decision tree \n",
    "\n",
    "3) Cost-complexity decision tree\n",
    "\n",
    "4) Bagging method \n",
    "\n",
    "5) Random Forest\n",
    "\n",
    "5) Boosting\n",
    "\n",
    "\n",
    "In my interpretation, optimal sized tree - is a tree that has a highest predictive power while also being explainable and interpretable. First I want to look on overall single tree model performance with different splits."
   ]
  },
  {
   "cell_type": "code",
   "execution_count": null,
   "id": "55d1dd63",
   "metadata": {},
   "outputs": [],
   "source": [
    "# split the data \n",
    "train_x, train_y, valid_x, valid_y = variable_split('mpg01', training, validation)\n",
    "\n",
    "# splits by error rate plot for single trees \n",
    "# lists for accuracies \n",
    "# training\n",
    "train_accuracy = []\n",
    "train_recall = []\n",
    "train_precision = []\n",
    "train_misclassification = []\n",
    "\n",
    "# validation\n",
    "valid_accuracy = []\n",
    "valid_recall = []\n",
    "valid_precision = []\n",
    "valid_misclassification = []\n",
    "\n",
    "# number of splits \n",
    "splits = range(1, 20)\n",
    "\n",
    "for i in splits: \n",
    "    # model \n",
    "    model_tree = DecisionTreeClassifier(max_depth = i, \n",
    "                                       random_state = 2401)\n",
    "    model_tree.fit(train_x, train_y)\n",
    "    \n",
    "    # predictions \n",
    "    train_pred_tree = model_tree.predict(train_x)\n",
    "    valid_pred_tree = model_tree.predict(valid_x)\n",
    "    # lists append\n",
    "    # training\n",
    "    # metrics plot\n",
    "    train_accuracy.append(accuracy_score(train_y, train_pred_tree))\n",
    "    train_recall.append(recall_score(train_y, train_pred_tree))\n",
    "    train_precision.append(precision_score(train_y, train_pred_tree))\n",
    "     \n",
    "    # validation\n",
    "    # metrics plot\n",
    "    valid_accuracy.append(accuracy_score(valid_y, valid_pred_tree))\n",
    "    valid_recall.append(recall_score(valid_y, valid_pred_tree))\n",
    "    valid_precision.append(precision_score(valid_y, valid_pred_tree))\n",
    "    \n",
    "    # misclassification rate plot \n",
    "    train_rate = 1 - accuracy_score(train_y, train_pred_tree)\n",
    "    valid_rate = 1 - accuracy_score(valid_y, valid_pred_tree)\n",
    "    \n",
    "    train_misclassification.append(train_rate)\n",
    "    valid_misclassification.append(valid_rate)\n",
    "    \n",
    "    \n",
    "\n",
    "# plot \n",
    "plt.figure(figsize = (16, 10))\n",
    "\n",
    "# training data metrics\n",
    "plt.subplot(2, 2, 1)\n",
    "plt.title('Training Accuracy, Recall, and Precision rates by number of Splits', fontweight = 'bold')\n",
    "plt.plot(splits, train_accuracy, label = 'Training Accuracy rate')\n",
    "plt.plot(splits, train_recall, label = 'Training Recall rate')\n",
    "plt.plot(splits, train_precision, label = 'Training Precision rate')\n",
    "plt.axvline(12, color='r', linestyle='--', label='Optimal Depth')\n",
    "plt.ylabel('Rate')\n",
    "plt.xlabel('Number of splits (max depth)')\n",
    "\n",
    "plt.grid(True)\n",
    "plt.legend()\n",
    "\n",
    "# validation data metrics \n",
    "plt.subplot(2, 2, 2)\n",
    "plt.title('Validation Accuracy, Recall, and Precision rates by number of Splits', fontweight = 'bold')\n",
    "plt.plot(splits, valid_accuracy, label = 'Validation Accuracy rate')\n",
    "plt.plot(splits, valid_recall, label = 'Validation Recall rate')\n",
    "plt.plot(splits, valid_precision, label = 'Validation Precision rate')\n",
    "plt.axvline(12, color='r', linestyle='--', label='Optimal Depth')\n",
    "plt.ylabel('Rate')\n",
    "plt.xlabel('Number of splits (max depth)')\n",
    "\n",
    "plt.grid(True)\n",
    "plt.legend()\n",
    "\n",
    "# misclassification rate \n",
    "plt.subplot(2, 2, 3)\n",
    "plt.title('Training, and Validation Misclassification rates by number of splits', fontweight = 'bold')\n",
    "plt.plot(splits, train_misclassification, label = 'Training Misclassification Rate', marker = 'o')\n",
    "plt.plot(splits, valid_misclassification, label = 'Validation Misclassification Rate', marker = 'x')\n",
    "plt.axvline(12, color='r', linestyle='--', label='Optimal Depth')\n",
    "plt.ylabel('Misclassification rate')\n",
    "plt.xlabel('Number of splits (max depth)')\n",
    "\n",
    "plt.grid(True)\n",
    "plt.legend()\n",
    "\n",
    "plt.show()"
   ]
  },
  {
   "cell_type": "markdown",
   "id": "c711f715",
   "metadata": {},
   "source": [
    "Surprisingly, as I increase number of splits, the evaluation metrics (accuracy, recall, precision) and Misclassification rates decrease both in validation and training data. Validation data has lower rates than training, but it is because the model just learns patterns in the training data. \n",
    "\n",
    "The optimal tree size is ~12-12.5 depth. At this split size, the metrics rates become the highest and do not increase more. Ofcourse, I could choose tree size where the `Recall` rate is maximized, but then it negatively affects accuracy and precision rates, that's why I am trying to find a balance between these metrics.\n",
    "\n",
    "`Misclassification` rate decreases both in testing and validation data and becomes monotonnous (not increasing) at ~12-12.5 tree depth.  \n",
    "\n",
    "I am going to do a full-grown decision tree and test its performance. Even if I found an optimal tree size, I want to try and find a tree with similar performance, but more interpretable and explainable (less complex).  "
   ]
  },
  {
   "cell_type": "code",
   "execution_count": null,
   "id": "c156ceee",
   "metadata": {
    "scrolled": false
   },
   "outputs": [],
   "source": [
    "# full-grown tree \n",
    "plt.figure(figsize=(30, 20), dpi=100)\n",
    "model_full_tree = DecisionTreeClassifier(random_state = 2401)\n",
    "model_full_tree.fit(train_x, train_y)\n",
    "\n",
    "# class names \n",
    "class_names = np.unique(train_y).astype(str)\n",
    "\n",
    "# tree depth \n",
    "depth = model_full_tree.get_depth()\n",
    "\n",
    "plot_tree(model_full_tree, feature_names=train_x.columns, class_names=class_names, filled = True)\n",
    "\n",
    "plt.show()\n",
    "\n",
    "print(f\"The depth of given tree is:{depth}\")\n"
   ]
  },
  {
   "cell_type": "markdown",
   "id": "40412acd",
   "metadata": {},
   "source": [
    "Full grown tree has a size of 12. It is the optimal tree with the higest performance in the graph. To prove it, I will check performance of this tree with metrics and cross-validation."
   ]
  },
  {
   "cell_type": "code",
   "execution_count": null,
   "id": "a223bd20",
   "metadata": {
    "scrolled": true
   },
   "outputs": [],
   "source": [
    "# separate function for trees\n",
    "def metrics_tree(true_values, x, predictions, data, model): \n",
    "    # some statistics \n",
    "    print(f\"{data} Accuracy: {accuracy_score(true_values, predictions):.4f}\")\n",
    "    print(f\"{data} Precision: {precision_score(true_values, predictions):.4f}\")\n",
    "    print(f\"{data} Recall: {recall_score(true_values, predictions):.4f}\")\n",
    "    print(f\"{data} F1 Score: {f1_score(true_values, predictions):.4f}\")\n",
    "    \n",
    "    # ROC curve \n",
    "    ROC = model.predict_proba(x)[:, 1]\n",
    "    print(f\"{data} ROC AUC: {roc_auc_score(true_values, ROC):.4f}\")\n",
    "    print()\n",
    "    \n",
    "    # AIC \n",
    "    #print('AIC', AIC_score(true_values, predictions, df = len(x.columns) + 1))\n",
    "    \n",
    "    \n",
    "   #summary (confusion_matrix)\n",
    "    classificationSummary(true_values, predictions)\n",
    "    print()\n",
    "    \n",
    "# full grown tree metrics \n",
    "print('Training data:')\n",
    "metrics_tree(train_y, train_x, model_full_tree.predict(train_x), 'Training', model_full_tree)\n",
    "print()\n",
    "\n",
    "print('Validation data:')\n",
    "metrics_tree(valid_y, valid_x, model_full_tree.predict(valid_x), 'Validation', model_full_tree)"
   ]
  },
  {
   "cell_type": "code",
   "execution_count": null,
   "id": "87709392",
   "metadata": {
    "scrolled": true
   },
   "outputs": [],
   "source": [
    "# cross-validation\n",
    "cross_validation(training, validation, 'mpg01', model_full_tree, 5)"
   ]
  },
  {
   "cell_type": "markdown",
   "id": "67e1ddb1",
   "metadata": {},
   "source": [
    "Both metrics and cross-validation showed high results for full-grown decision tree. On validation data, decision tree has a `98%` of accuracy, but cross-validation shows slightly lower result for accuracy - `94%`. I want to make similar plots as I did above, but now using cross-validation to test if there is actually better size of splits possible. I will also use - `entropy` criterion to enhance performance.  "
   ]
  },
  {
   "cell_type": "code",
   "execution_count": null,
   "id": "6019c5f8",
   "metadata": {},
   "outputs": [],
   "source": [
    "# make cross-validation scores \n",
    "combined_data = pd.concat([training, validation], ignore_index = True)\n",
    "    \n",
    "x = combined_data.drop(columns = ['mpg01'])\n",
    "y = combined_data['mpg01']\n",
    "\n",
    "# lists \n",
    "avg_accuracy = []\n",
    "avg_recall = []\n",
    "avg_precision = []\n",
    "avg_misclassification = []\n",
    "\n",
    "# cross-validation\n",
    "cv = StratifiedKFold(n_splits = 5, \n",
    "                        shuffle = True, \n",
    "                        random_state = 2401)\n",
    "\n",
    "# plot preparation\n",
    "splits = range(1, 20)\n",
    "for i in splits: \n",
    "    # model\n",
    "    model_tree = DecisionTreeClassifier(max_depth = i, random_state = 2401, criterion = 'entropy')\n",
    "    \n",
    "    # cross-validation metrics \n",
    "    score_accuracy = cross_val_score(model_tree, x, y, cv = cv, scoring = 'accuracy').mean()\n",
    "    score_precision = cross_val_score(model_tree, x, y, cv = cv, scoring = 'precision').mean()\n",
    "    score_recall = cross_val_score(model_tree, x, y, cv = cv, scoring = 'recall').mean()\n",
    "    \n",
    "    # misclassification rate \n",
    "    rate = 1 - score_accuracy\n",
    "    \n",
    "    # append \n",
    "    avg_accuracy.append(score_accuracy)\n",
    "    avg_precision.append(score_precision)\n",
    "    avg_recall.append(score_recall)\n",
    "    avg_misclassification.append(rate)\n",
    "                         \n",
    "# plot \n",
    "# cross-validation metrics\n",
    "plt.figure(figsize = (30, 16))                      \n",
    "\n",
    "plt.subplot(2, 2, 1)\n",
    "plt.title('Cross-Validation Metrics rates by number of Splits (no criterion)', fontweight = 'bold')  \n",
    "plt.plot(splits, avg_accuracy, label='Average Accuracy rate')\n",
    "plt.plot(splits, avg_recall, label='Average Recall rate')\n",
    "plt.plot(splits, avg_precision, label='Average Precision rate')\n",
    "plt.axvline(8, color='r', linestyle='--', label='Optimal Depth')\n",
    "plt.ylabel('Rate')\n",
    "plt.xlabel('Number of splits (max depth)')\n",
    "plt.grid(True)\n",
    "plt.legend(loc = 'lower right')\n",
    "\n",
    "# misclassification plot \n",
    "plt.subplot(2,2,3)\n",
    "plt.title('Average Misclassification rates in Cross-Validation by number of Splits', fontweight = 'bold')  \n",
    "plt.plot(splits, avg_misclassification, label='Average Misclassification Rate')\n",
    "plt.axvline(8, color='r', linestyle='--', label='Optimal Depth')\n",
    "plt.ylabel('Rate')\n",
    "plt.xlabel('Number of splits (max depth)')\n",
    "plt.grid(True)\n",
    "plt.legend(loc = 'lower right')\n"
   ]
  },
  {
   "cell_type": "markdown",
   "id": "ecd1e7a1",
   "metadata": {},
   "source": [
    "Cross-validation plot pattern is not the same normal metrics plot. Accuracy, Recall, and Precision rates are smaller in cross-validation and there is a different optimal depth that has higher predictive power and lower misclassification rate. By the information from the plot, ~7.5 - 8 depth is the best for the performance of the decision tree model. 8 - is the best depth where the split is balanced for all metrics for the decision tree."
   ]
  },
  {
   "cell_type": "code",
   "execution_count": null,
   "id": "387082c8",
   "metadata": {},
   "outputs": [],
   "source": [
    "# full-grown tree (final)\n",
    "plt.figure(figsize=(30, 20), dpi=100)\n",
    "model_full_tree1 = DecisionTreeClassifier(random_state = 2401, max_depth = 12)\n",
    "model_full_tree1.fit(train_x, train_y)\n",
    "\n",
    "model_full_tree = DecisionTreeClassifier(random_state = 2401, max_depth = 8, criterion = 'entropy')\n",
    "model_full_tree.fit(train_x, train_y)\n",
    "\n",
    "# tree depth \n",
    "print(f\"The depth of the given tree is:{model_full_tree.get_depth()}\")\n",
    "\n",
    "plot_tree(model_full_tree, feature_names=train_x.columns, class_names=class_names, filled = True)\n",
    "\n",
    "plt.show()\n",
    "print()\n",
    "\n",
    "# classification summary validation data (depth = 12)\n",
    "print('Classification summary validation data (depth = 12)')\n",
    "metrics_tree(valid_y, valid_x, model_full_tree1.predict(valid_x), 'Validation', model_full_tree1)\n",
    "\n",
    "print()\n",
    "#cross-validation (depth 12)\n",
    "print('Cross-Validation scores (depth 12):')\n",
    "cross_validation(training, validation, 'mpg01', model_full_tree1, 5)\n",
    "\n",
    "print('-----------------------------------------------------------------------------------------------------------')\n",
    "# classification summary validation data (depth = 8)\n",
    "print()\n",
    "print()\n",
    "print('Classification summary validation data (depth = 8)')\n",
    "metrics_tree(valid_y, valid_x, model_full_tree.predict(valid_x), 'Validation', model_full_tree)\n",
    "\n",
    "# cross-validation (depth 8)\n",
    "print()\n",
    "print('Cross-Validation scores (depth 8):')\n",
    "cross_validation(training, validation, 'mpg01', model_full_tree, 5)"
   ]
  },
  {
   "cell_type": "markdown",
   "id": "d3e34daa",
   "metadata": {},
   "source": [
    "Confusion Matrix showed that if I change depth from 12 to 8, model with 8 depth has the same accuracy as the full-grown tree with 12 depth. I found the most optimal tree which is also more interpretable and explainable. Metrics scores are the same for both models, but Cross-validation scores are higher for tree adjusted by `entropy` with depth 8.\n",
    "\n",
    "Depth 8 - ideal depth for optimal decision tree. I also don't think that I need to do CHAID or Cost-Complexity decision tree, as the optimal tree is found and I doubt that I can make single tree even better. I will start doing bagging, boosting, and mixed algorithms. First of all, I want to identify optimal number of decision trees for bagging. From now on, I will only use cross-validation for choosing optimal tuning."
   ]
  },
  {
   "cell_type": "markdown",
   "id": "48b96b28",
   "metadata": {},
   "source": [
    "### Bagging trees"
   ]
  },
  {
   "cell_type": "code",
   "execution_count": null,
   "id": "af67ff27",
   "metadata": {},
   "outputs": [],
   "source": [
    "# Number of classifiers in bagging vs metrics and misclassification rate \n",
    "\n",
    "# make cross-validation scores \n",
    "combined_data = pd.concat([training, validation], ignore_index = True)\n",
    "    \n",
    "x = combined_data.drop(columns = ['mpg01'])\n",
    "y = combined_data['mpg01']\n",
    "\n",
    "# list \n",
    "avg_accuracy = []\n",
    "avg_precision = []\n",
    "avg_recall = []\n",
    "avg_misclassification = []\n",
    "\n",
    "# cross-validation \n",
    "cv = StratifiedKFold(n_splits = 5, \n",
    "                        shuffle = True, \n",
    "                        random_state = 2401)\n",
    "\n",
    "# number of trees \n",
    "n_trees = range(100, 401, 100)\n",
    "\n",
    "for n in n_trees: \n",
    "    # bagging model \n",
    "    model_bagging = BaggingClassifier(\n",
    "        DecisionTreeClassifier(\n",
    "            max_depth=8, \n",
    "            criterion = 'entropy'), \n",
    "            n_estimators = n, \n",
    "            random_state = 2401)\n",
    "\n",
    "    # cross-validation metrics \n",
    "    score_accuracy = cross_val_score(model_bagging, x, y, cv = cv, scoring = 'accuracy').mean()\n",
    "    score_precision = cross_val_score(model_bagging, x, y, cv = cv, scoring = 'precision').mean()\n",
    "    score_recall = cross_val_score(model_bagging, x, y, cv = cv, scoring = 'recall').mean()\n",
    "    \n",
    "    # misclassification rate \n",
    "    rate = 1 - score_accuracy\n",
    "    \n",
    "    # append \n",
    "    avg_accuracy.append(score_accuracy)\n",
    "    avg_precision.append(score_precision)\n",
    "    avg_recall.append(score_recall)\n",
    "    avg_misclassification.append(rate)\n",
    "    \n",
    "# plot \n",
    "# cross-validation metrics\n",
    "plt.figure(figsize = (16, 10))                      \n",
    "\n",
    "plt.subplot(2, 2, 1)\n",
    "plt.title('Average Accuracy, Recall, and Precision Cross-Validation rates by number of Trees (Bagging)', fontweight = 'bold')  \n",
    "plt.plot(n_trees, avg_accuracy, label='Average Accuracy rate')\n",
    "plt.plot(n_trees, avg_recall, label='Average Recall rate')\n",
    "plt.plot(n_trees, avg_precision, label='Average Precision rate')\n",
    "plt.axvline(300, color='r', linestyle='--', label='Optimal Number of trees')\n",
    "plt.ylabel('Rate')\n",
    "plt.xlabel('Number of trees')\n",
    "plt.grid(True)\n",
    "plt.legend(loc = 'upper left')\n",
    "\n",
    "# misclassification plot \n",
    "plt.subplot(2,2,3)\n",
    "plt.title('Average Misclassification rates in Cross-Validation by number of Trees (Bagging)', fontweight = 'bold')  \n",
    "plt.plot(n_trees, avg_misclassification, label='Average Misclassification Rate')\n",
    "plt.axvline(300, color='r', linestyle='--', label='Optimal Number of trees')\n",
    "plt.ylabel('Rate')\n",
    "plt.xlabel('Number of trees')\n",
    "plt.grid(True)\n",
    "plt.legend(loc = 'upper left')\n",
    "    "
   ]
  },
  {
   "cell_type": "markdown",
   "id": "cea07385",
   "metadata": {},
   "source": [
    "`300` is the number of trees for optimal bagging algorithm for given data based on cross-validation. `Misclassification rate` is the highest at 100 trees and gradually decreases till 300 trees, where it then becomes monotonnous and doesn't change. `300` trees is also the most balanced number in relation to `Average Accuracy, Recall, and Precision` metrics. Now I will compare the predictive performance of bagging algorithm with the optimized 8-depth single tree. "
   ]
  },
  {
   "cell_type": "code",
   "execution_count": null,
   "id": "9ff8175c",
   "metadata": {},
   "outputs": [],
   "source": [
    "# model\n",
    "model_bagging = BaggingClassifier(DecisionTreeClassifier(max_depth = 8, \n",
    "                                                         criterion = 'entropy'),\n",
    "                                  n_estimators = 300, \n",
    "                                  random_state = 2401)\n",
    "    \n",
    "# train \n",
    "model_bagging.fit(train_x, train_y)\n",
    "\n",
    "# metrics (for single tree)\n",
    "print('Full-Grown Tree:')\n",
    "metrics_tree(valid_y, valid_x, model_full_tree.predict(valid_x), 'Validation', model_full_tree)\n",
    "\n",
    "# cross-validation (for single tree)\n",
    "cross_validation(training, validation, 'mpg01', model_full_tree, 5)\n",
    "\n",
    "\n",
    "print('----------------------------------------------------------------------')\n",
    "\n",
    "# metrics (for bagging)\n",
    "print('Bagging:')\n",
    "metrics_tree(valid_y, valid_x, model_bagging.predict(valid_x), 'Validation', model_bagging)\n",
    "\n",
    "# cross-validation (for bagging)\n",
    "cross_validation(training, validation, 'mpg01', model_bagging, 5)\n",
    "\n",
    "criterion = 'entropy'"
   ]
  },
  {
   "cell_type": "markdown",
   "id": "7cc47a8e",
   "metadata": {},
   "source": [
    "Bagging tree model has a slightly lower accuracy, precision, and F1 rates than optimized single tree. There was also increae in 2 `False Positives` in bagging compared to single tree algorithm. On other hand, cross-validation scores are higher in bagging, as well as ROC AUC, which indicates that I am building a better model. I want to implement a higher randomness in my predictions by using random forest now in order to improve the algorithm even more and make the predictive power of ensemble algorithms higher than single tree both in metrics and cross-validation metrics.  "
   ]
  },
  {
   "cell_type": "markdown",
   "id": "b76086b2",
   "metadata": {},
   "source": [
    "### Random Forest \n"
   ]
  },
  {
   "cell_type": "code",
   "execution_count": null,
   "id": "0725321e",
   "metadata": {},
   "outputs": [],
   "source": [
    "# Number of classifiers in random forest vs metrics and misclassification rate \n",
    "\n",
    "# make cross-validation scores \n",
    "combined_data = pd.concat([training, validation], ignore_index = True)\n",
    "    \n",
    "x = combined_data.drop(columns = ['mpg01'])\n",
    "y = combined_data['mpg01']\n",
    "\n",
    "# list \n",
    "avg_accuracy = []\n",
    "avg_precision = []\n",
    "avg_recall = []\n",
    "avg_misclassification = []\n",
    "\n",
    "# cross-validation \n",
    "cv = StratifiedKFold(n_splits = 5, \n",
    "                        shuffle = True, \n",
    "                        random_state = 2401)\n",
    "\n",
    "# number of trees \n",
    "n_trees = range(100, 401, 100)\n",
    "\n",
    "for n in n_trees: \n",
    "    # bagging model \n",
    "    model_forest= RandomForestClassifier(\n",
    "            max_depth=8, \n",
    "            criterion = 'entropy', \n",
    "            n_estimators = n, \n",
    "            random_state = 2401)\n",
    "\n",
    "    # cross-validation metrics \n",
    "    score_accuracy = cross_val_score(model_forest, x, y, cv = cv, scoring = 'accuracy').mean()\n",
    "    score_precision = cross_val_score(model_forest, x, y, cv = cv, scoring = 'precision').mean()\n",
    "    score_recall = cross_val_score(model_forest, x, y, cv = cv, scoring = 'recall').mean()\n",
    "    \n",
    "    # misclassification rate \n",
    "    rate = 1 - score_accuracy\n",
    "    \n",
    "    # append \n",
    "    avg_accuracy.append(score_accuracy)\n",
    "    avg_precision.append(score_precision)\n",
    "    avg_recall.append(score_recall)\n",
    "    avg_misclassification.append(rate)\n",
    "    \n",
    "# plot \n",
    "# cross-validation metrics\n",
    "plt.figure(figsize = (16, 10))                      \n",
    "\n",
    "plt.subplot(2, 2, 1)\n",
    "plt.title('Average Accuracy, Recall, and Precision Cross-Validation rates by number of Trees (Random Forest)', fontweight = 'bold')  \n",
    "plt.plot(n_trees, avg_accuracy, label='Average Accuracy rate')\n",
    "plt.plot(n_trees, avg_recall, label='Average Recall rate')\n",
    "plt.plot(n_trees, avg_precision, label='Average Precision rate')\n",
    "plt.axvline(100, color='r', linestyle='--', label='Optimal Number of trees')\n",
    "plt.ylabel('Rate')\n",
    "plt.xlabel('Number of trees')\n",
    "plt.grid(True)\n",
    "plt.legend(loc = 'upper right')\n",
    "\n",
    "# misclassification plot \n",
    "plt.subplot(2,2,3)\n",
    "plt.title('Average Misclassification rates in Cross-Validation by number of Trees (Random Forest)', fontweight = 'bold')  \n",
    "plt.plot(n_trees, avg_misclassification, label='Average Misclassification Rate')\n",
    "plt.axvline(100, color='r', linestyle='--', label='Optimal Number of trees')\n",
    "plt.ylabel('Rate')\n",
    "plt.xlabel('Number of trees')\n",
    "plt.grid(True)\n",
    "plt.legend(loc = 'upper left')\n"
   ]
  },
  {
   "cell_type": "markdown",
   "id": "1e826539",
   "metadata": {},
   "source": [
    "For `Random Forest` model, the misclassification rate is the smallest at 100 trees, and in rapidly increases as number of trees increase. `Random Forest` algorithm achieves highest average misclassification rate at 200 trees and more. Cross-validation metrics (`Accuracy, Precision, Recall`) are pretty monotonnous and do not really differ based on number of trees in `Random Forest`. The highest accuracy possible is set at 100 trees. \n",
    "\n",
    "I will compare Random Forest predictive performance with single tree that still has better performance. If Random Forest exceeds predictive power of single optimized tree, it also means that Random forest has better predictive power than bagging. "
   ]
  },
  {
   "cell_type": "code",
   "execution_count": null,
   "id": "b6a75f29",
   "metadata": {
    "scrolled": false
   },
   "outputs": [],
   "source": [
    "# model\n",
    "model_forest= RandomForestClassifier(\n",
    "            max_depth = 8,\n",
    "            criterion = 'entropy',\n",
    "            n_estimators = 100,\n",
    "            random_state = 2401)\n",
    "    \n",
    "# train \n",
    "model_forest.fit(train_x, train_y)\n",
    "\n",
    "# metrics (for single tree)\n",
    "print('Full-Grown Tree:')\n",
    "metrics_tree(valid_y, valid_x, model_full_tree.predict(valid_x), 'Validation', model_full_tree)\n",
    "\n",
    "# cross-validation (for single tree)\n",
    "cross_validation(training, validation, 'mpg01', model_full_tree, 5)\n",
    "\n",
    "\n",
    "print('----------------------------------------------------------------------')\n",
    "\n",
    "# metrics (for random forest)\n",
    "print('Random Forest:')\n",
    "metrics_tree(valid_y, valid_x, model_forest.predict(valid_x), 'Validation', model_forest)\n",
    "\n",
    "# cross-validation (for bagging)\n",
    "cross_validation(training, validation, 'mpg01', model_forest, 5)"
   ]
  },
  {
   "cell_type": "markdown",
   "id": "d7c98b72",
   "metadata": {},
   "source": [
    "`Random Forest` is indeed better than bagging and single tree algorithms. `Random Forest` has much higher metrics accuracy rates, as well as cross-validation rates. In both cases, ROC AUC is higher and indicates that `Random Forest` is a better model with a higher predictive power. `Random Forest` also doesn't have any `False Negatives` and only one `False Positive` in validation data, which is a very huge improvement in my opinion. \n",
    "\n",
    "The last step - Boosting algorithm. I am going to use `Gradient Boosting` for this time. \n",
    "\n",
    "Key parameters of Gradient boosting is - `learning rate` and again `number of trees`. I am going to plot visualizations for both of these parameters, to avoide overfitting of the data and to explore exact values. "
   ]
  },
  {
   "cell_type": "markdown",
   "id": "7b60e981",
   "metadata": {},
   "source": [
    "### Gradient Boosting"
   ]
  },
  {
   "cell_type": "code",
   "execution_count": null,
   "id": "65112938",
   "metadata": {
    "scrolled": false
   },
   "outputs": [],
   "source": [
    "# Number of classifiers in gradient boosting vs metrics and misclassification rate \n",
    "\n",
    "# make cross-validation scores \n",
    "combined_data = pd.concat([training, validation], ignore_index = True)\n",
    "    \n",
    "x = combined_data.drop(columns = ['mpg01'])\n",
    "y = combined_data['mpg01']\n",
    "\n",
    "# list \n",
    "avg_accuracy = []\n",
    "avg_precision = []\n",
    "avg_recall = []\n",
    "avg_misclassification = []\n",
    "\n",
    "avg_accuracy_l = []\n",
    "avg_precision_l = []\n",
    "avg_recall_l = []\n",
    "avg_misclassification_l = []\n",
    "\n",
    "# cross-validation \n",
    "cv = StratifiedKFold(n_splits = 5, \n",
    "                        shuffle = True, \n",
    "                        random_state = 2401)\n",
    "\n",
    "# number of trees \n",
    "n_trees = range(1, 401, 100)\n",
    "\n",
    "for n in n_trees: \n",
    "    # boosting model \n",
    "    model_boosting = GradientBoostingClassifier(n_estimators = n,\n",
    "                                               max_depth  = 8, \n",
    "                                               random_state = 2401)\n",
    "    # cross-validation metrics \n",
    "    score_accuracy = cross_val_score(model_boosting, x, y, cv = cv, scoring = 'accuracy').mean()\n",
    "    score_precision = cross_val_score(model_boosting, x, y, cv = cv, scoring = 'precision').mean()\n",
    "    score_recall = cross_val_score(model_boosting, x, y, cv = cv, scoring = 'recall').mean()\n",
    "    \n",
    "    # misclassification rate \n",
    "    rate = 1 - score_accuracy\n",
    "    \n",
    "    # append \n",
    "    avg_accuracy.append(score_accuracy)\n",
    "    avg_precision.append(score_precision)\n",
    "    avg_recall.append(score_recall)\n",
    "    avg_misclassification.append(rate)\n",
    "    \n",
    "# different variables for learning process \n",
    "learning_process = [0.01, 0.1, 0.2, 0.3, 0.4, 0.5, 0.6, 0.7, 0.8, 0.9, 1]\n",
    "\n",
    "for n1 in learning_process: \n",
    "    # boosting model (updated)\n",
    "    model_boosting = GradientBoostingClassifier(n_estimators = 100,\n",
    "                                                learning_rate = n1,\n",
    "                                               max_depth  = 8, \n",
    "                                               random_state = 2401)\n",
    "    \n",
    "    # cross-validation metrics \n",
    "    score_accuracy_l = cross_val_score(model_boosting, x, y, cv = cv, scoring = 'accuracy').mean()\n",
    "    score_precision_l = cross_val_score(model_boosting, x, y, cv = cv, scoring = 'precision').mean()\n",
    "    score_recall_l = cross_val_score(model_boosting, x, y, cv = cv, scoring = 'recall').mean()\n",
    "    \n",
    "    # misclassification rate \n",
    "    rate_l = 1 - score_accuracy_l\n",
    "    \n",
    "    # append \n",
    "    avg_accuracy_l.append(score_accuracy_l)\n",
    "    avg_precision_l.append(score_precision_l)\n",
    "    avg_recall_l.append(score_recall_l)\n",
    "    avg_misclassification_l.append(rate_l)\n",
    "    \n",
    "# plot \n",
    "# cross-validation metrics\n",
    "plt.figure(figsize = (20, 16))                      \n",
    "\n",
    "plt.subplot(2, 2, 1)\n",
    "plt.title('Average Accuracy, Recall, and Precision Cross-Validation rates by number of Trees (Boosting)', fontweight = 'bold')  \n",
    "plt.plot(n_trees, avg_accuracy, label='Average Accuracy rate')\n",
    "plt.plot(n_trees, avg_recall, label='Average Recall rate')\n",
    "plt.plot(n_trees, avg_precision, label='Average Precision rate')\n",
    "plt.axvline(100, color='r', linestyle='--', label='Optimal Number of trees')\n",
    "plt.ylabel('Rate')\n",
    "plt.xlabel('Number of trees')\n",
    "plt.grid(True)\n",
    "plt.legend(loc = 'lower right')                    \n",
    "\n",
    "plt.subplot(2, 2, 2)\n",
    "plt.title('Average Accuracy, Recall, and Precision Cross-Validation rates by learning rates (Boosting)', fontweight = 'bold')  \n",
    "plt.plot(learning_process, avg_accuracy_l, label='Average Accuracy rate')\n",
    "plt.plot(learning_process, avg_recall_l, label='Average Recall rate')\n",
    "plt.plot(learning_process, avg_precision_l, label='Average Precision rate')\n",
    "plt.axvline(0.1, color='r', linestyle='--', label='Optimal Number of trees')\n",
    "plt.ylabel('Rate')\n",
    "plt.xlabel('Learning rate')\n",
    "plt.grid(True)\n",
    "plt.legend(loc = 'lower right')\n",
    "\n",
    "# misclassification plot \n",
    "plt.subplot(2,2,3)\n",
    "plt.title('Average Misclassification rates in Cross-Validation by number of Trees (Boosting)', fontweight = 'bold')  \n",
    "plt.plot(n_trees, avg_misclassification, label='Average Misclassification Rate')\n",
    "plt.axvline(100, color='r', linestyle='--', label='Optimal Number of trees')\n",
    "plt.ylabel('Rate')\n",
    "plt.xlabel('Number of trees')\n",
    "plt.grid(True)\n",
    "plt.legend(loc = 'upper right')\n",
    "\n",
    "\n",
    "plt.subplot(2,2,4)\n",
    "plt.title('Average Misclassification rates in Cross-Validation by learning rates (Boosting)', fontweight = 'bold')  \n",
    "plt.plot(learning_process, avg_misclassification_l, label='Average Misclassification Rate')\n",
    "plt.axvline(0.1, color='r', linestyle='--', label='Optimal Number of trees')\n",
    "plt.ylabel('Rate')\n",
    "plt.xlabel('Learning rate')\n",
    "plt.grid(True)\n",
    "plt.legend(loc = 'upper right')\n",
    "\n",
    "plt.tight_layout()\n",
    "plt.show()"
   ]
  },
  {
   "cell_type": "markdown",
   "id": "2d066b4a",
   "metadata": {},
   "source": [
    "The information in cross-validation graphs above indicate that the optimal number of trees for boosting is still - `100`. As Cross-Validation accuracies increase, and misclassification rate decreases till number of trees reaches 100, but then it becomes monotonnous after 100 trees. \n",
    "\n",
    "`0.1` is an ideal learning rate for boosting trees. Average Misclassification rate in cross-validation graph fluctuates highly, and cross-validation accuracy also fluctuate when learning rate increases. `0.1` Learning rate has the highest average accuracies, and lowest misclassification rates possible. Now I will implement these parameters for training and evaluating a model. "
   ]
  },
  {
   "cell_type": "code",
   "execution_count": null,
   "id": "97510a27",
   "metadata": {},
   "outputs": [],
   "source": [
    "# boosting model \n",
    "model_boosting = GradientBoostingClassifier(learning_rate = 0.1, \n",
    "                                            n_estimators = 100, \n",
    "                                               max_depth  = 8,\n",
    "                                               random_state = 2401)\n",
    "\n",
    "# train \n",
    "model_boosting.fit(train_x, train_y)\n",
    "\n",
    "# metrics (for random forest)\n",
    "print('Random Forest:')\n",
    "metrics_tree(valid_y, valid_x, model_forest.predict(valid_x), 'Validation', model_forest)\n",
    "\n",
    "# cross-validation (for bagging)\n",
    "cross_validation(training, validation, 'mpg01', model_forest, 5)\n",
    "\n",
    "print('----------------------------------------------------------------------')\n",
    "\n",
    "# metrics (for gradient boosting)\n",
    "print('Gradient boosting:')\n",
    "metrics_tree(valid_y, valid_x, model_boosting.predict(valid_x), 'Validation', model_boosting)\n",
    "\n",
    "# cross-validation (for bagging)\n",
    "cross_validation(training, validation, 'mpg01', model_boosting, 5)"
   ]
  },
  {
   "cell_type": "markdown",
   "id": "709ffe75",
   "metadata": {},
   "source": [
    "Unfortunately, I couldn't get higher results using `Gradient Boosting`. By comparing cross-validation data, `Boosting` is better model than `single-tree`, but worse than `Bagging` and `Random Forest`.\n",
    "\n",
    "The main reason of such model behavior is a relatively small size and complexity of the data. Data is not complex at all, and the sample size of data is also small. I would have gained more benefit from boosting if a greater in size data was used. \n",
    "\n",
    "In this work, `Random Forest` with 95% cross-validation accuracy and 99% ROC AUC cross-validation rate is the best model compared to others. `2nd model` is `Bagging` followed by other 2 models. "
   ]
  }
 ],
 "metadata": {
  "kernelspec": {
   "display_name": "Python 3 (ipykernel)",
   "language": "python",
   "name": "python3"
  },
  "language_info": {
   "codemirror_mode": {
    "name": "ipython",
    "version": 3
   },
   "file_extension": ".py",
   "mimetype": "text/x-python",
   "name": "python",
   "nbconvert_exporter": "python",
   "pygments_lexer": "ipython3",
   "version": "3.9.13"
  }
 },
 "nbformat": 4,
 "nbformat_minor": 5
}
